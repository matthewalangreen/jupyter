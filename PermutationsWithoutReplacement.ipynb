{
 "cells": [
  {
   "cell_type": "markdown",
   "metadata": {},
   "source": [
    "Set tutorial: https://www.programiz.com/python-programming/set"
   ]
  },
  {
   "cell_type": "code",
   "execution_count": 11,
   "metadata": {},
   "outputs": [],
   "source": [
    "vals = {1,2,3,4,5}"
   ]
  },
  {
   "cell_type": "code",
   "execution_count": 12,
   "metadata": {},
   "outputs": [],
   "source": [
    "def showMe():\n",
    "    print(\"vals: \",vals,\"\\nnums:\",nums,\"\\nvalSets:\",valSets,\"\\n\")\n",
    "    return\n",
    "\n",
    "# (int,int,int) -> int\n",
    "def makeNum(a,b,c):\n",
    "    return a*100+b*10+c\n",
    "\n",
    "# get all vals\n",
    "def myFunc(_vals):\n",
    "    # make num holder\n",
    "    myNums = []\n",
    "  \n",
    "    for a in _vals:\n",
    "        # next list has to be one smaller\n",
    "        bVals = _vals.copy()\n",
    "        bVals.remove(a)\n",
    "        \n",
    "        for b in bVals:\n",
    "            # next list has to be one smaller\n",
    "            cVals = bVals.copy()\n",
    "            cVals.remove(b)\n",
    "            \n",
    "            for c in cVals:\n",
    "                myNums.append(makeNum(a,b,c))\n",
    "        \n",
    "\n",
    "    # return the nums we made\n",
    "    return myNums\n"
   ]
  },
  {
   "cell_type": "code",
   "execution_count": 17,
   "metadata": {},
   "outputs": [
    {
     "name": "stdout",
     "output_type": "stream",
     "text": [
      "[123, 124, 125, 132, 134, 135, 142, 143, 145, 152, 153, 154, 213, 214, 215, 231, 234, 235, 241, 243, 245, 251, 253, 254, 312, 314, 315, 321, 324, 325, 341, 342, 345, 351, 352, 354, 412, 413, 415, 421, 423, 425, 431, 432, 435, 451, 452, 453, 512, 513, 514, 521, 523, 524, 531, 532, 534, 541, 542, 543]\n"
     ]
    },
    {
     "data": {
      "text/plain": [
       "60"
      ]
     },
     "execution_count": 17,
     "metadata": {},
     "output_type": "execute_result"
    }
   ],
   "source": [
    "v = myFunc(vals)\n",
    "print(v)\n",
    "len(v)"
   ]
  },
  {
   "cell_type": "code",
   "execution_count": 14,
   "metadata": {},
   "outputs": [],
   "source": [
    "t={1,2,3,4,5}\n",
    "bt=t.remove(1)"
   ]
  },
  {
   "cell_type": "code",
   "execution_count": 15,
   "metadata": {},
   "outputs": [
    {
     "name": "stdout",
     "output_type": "stream",
     "text": [
      "None\n"
     ]
    }
   ],
   "source": [
    "print(bt)"
   ]
  },
  {
   "cell_type": "code",
   "execution_count": 16,
   "metadata": {},
   "outputs": [
    {
     "name": "stdout",
     "output_type": "stream",
     "text": [
      "{2, 3, 4, 5}\n"
     ]
    }
   ],
   "source": [
    "print(t)"
   ]
  },
  {
   "cell_type": "code",
   "execution_count": null,
   "metadata": {},
   "outputs": [],
   "source": []
  }
 ],
 "metadata": {
  "kernelspec": {
   "display_name": "Python 3",
   "language": "python",
   "name": "python3"
  },
  "language_info": {
   "codemirror_mode": {
    "name": "ipython",
    "version": 3
   },
   "file_extension": ".py",
   "mimetype": "text/x-python",
   "name": "python",
   "nbconvert_exporter": "python",
   "pygments_lexer": "ipython3",
   "version": "3.7.6"
  }
 },
 "nbformat": 4,
 "nbformat_minor": 4
}
