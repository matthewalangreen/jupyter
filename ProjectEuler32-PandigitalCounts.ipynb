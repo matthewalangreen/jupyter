{
 "cells": [
  {
   "cell_type": "markdown",
   "metadata": {},
   "source": [
    "Set tutorial: https://www.programiz.com/python-programming/set"
   ]
  },
  {
   "cell_type": "code",
   "execution_count": 85,
   "metadata": {},
   "outputs": [],
   "source": [
    "v = {1,2,3,4,5,6,7,8,9}"
   ]
  },
  {
   "cell_type": "code",
   "execution_count": 86,
   "metadata": {},
   "outputs": [],
   "source": [
    "def pickCandidate( set ):\n",
    "    value = set.pop()\n",
    "    return value"
   ]
  },
  {
   "cell_type": "code",
   "execution_count": 87,
   "metadata": {},
   "outputs": [],
   "source": [
    "def recordCandidate( int, set ):\n",
    "    return set.add(int)"
   ]
  },
  {
   "cell_type": "code",
   "execution_count": 88,
   "metadata": {
    "jupyter": {
     "source_hidden": true
    }
   },
   "outputs": [
    {
     "name": "stdout",
     "output_type": "stream",
     "text": [
      "1 2 3 4\n",
      "{1} {2} {3} {4}\n",
      "{5, 6, 7, 8, 9}\n"
     ]
    }
   ],
   "source": [
    "a = pickCandidate(v)\n",
    "b = pickCandidate(v)\n",
    "c = pickCandidate(v)\n",
    "d = pickCandidate(v)\n",
    "\n",
    "aSet = set()\n",
    "bSet = set()\n",
    "cSet = set()\n",
    "dSet = set()\n",
    "\n",
    "recordCandidate(a,aSet)\n",
    "recordCandidate(b,bSet)\n",
    "recordCandidate(c,cSet)\n",
    "recordCandidate(d,dSet)\n",
    "\n",
    "print(a,b,c,d)\n",
    "print(aSet,bSet,cSet,dSet)\n",
    "print(v)"
   ]
  },
  {
   "cell_type": "code",
   "execution_count": 89,
   "metadata": {},
   "outputs": [
    {
     "name": "stdout",
     "output_type": "stream",
     "text": [
      "5 {6, 7, 8, 9}\n",
      "6 {7, 8, 9}\n",
      "7 {8, 9}\n",
      "8 {9}\n",
      "9 set()\n"
     ]
    }
   ],
   "source": [
    "while len(v) > 0:\n",
    "    print(v.pop(),v)"
   ]
  },
  {
   "cell_type": "code",
   "execution_count": 90,
   "metadata": {
    "jupyter": {
     "source_hidden": true
    }
   },
   "outputs": [],
   "source": [
    "res = []\n",
    "for a in range(1,10):\n",
    "    for b in range(a+1,10):\n",
    "        for c in range(b+1,10):\n",
    "            for d in range(c+1,10):\n",
    "                res.append(1000*a+100*b+10*c+d)"
   ]
  },
  {
   "cell_type": "code",
   "execution_count": null,
   "metadata": {},
   "outputs": [],
   "source": []
  },
  {
   "cell_type": "code",
   "execution_count": null,
   "metadata": {},
   "outputs": [],
   "source": []
  },
  {
   "cell_type": "code",
   "execution_count": null,
   "metadata": {},
   "outputs": [],
   "source": []
  }
 ],
 "metadata": {
  "kernelspec": {
   "display_name": "Python 3",
   "language": "python",
   "name": "python3"
  },
  "language_info": {
   "codemirror_mode": {
    "name": "ipython",
    "version": 3
   },
   "file_extension": ".py",
   "mimetype": "text/x-python",
   "name": "python",
   "nbconvert_exporter": "python",
   "pygments_lexer": "ipython3",
   "version": "3.7.6"
  }
 },
 "nbformat": 4,
 "nbformat_minor": 4
}
