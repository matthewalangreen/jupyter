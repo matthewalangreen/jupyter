{
 "cells": [
  {
   "cell_type": "markdown",
   "metadata": {},
   "source": [
    "### Reference\n",
    "\n",
    "- https://www.instructables.com/id/Export-data-from-google-spreadsheet-in-required-CS/\n",
    "- https://medium.com/bhavaniravi/python-pandas-tutorial-92018da85a33\n",
    "- [Pandas API Reference](https://pandas.pydata.org/pandas-docs/stable/reference/index.html)\n",
    "- [Parsing input CSV dates](https://riptutorial.com/pandas/example/8458/parsing-date-columns-with-read-csv)\n",
    "- [Convert column of dataFrame](https://stackoverflow.com/questions/17134716/convert-dataframe-column-type-from-string-to-datetime-dd-mm-yyyy-format)\n",
    "- [Data Visualization](https://pandas.pydata.org/pandas-docs/stable/user_guide/visualization.html#visualization)\n",
    "- [Weighted Average Tutorial](https://pbpython.com/weighted-average.html)"
   ]
  },
  {
   "cell_type": "markdown",
   "metadata": {},
   "source": [
    "### About\n",
    "\n",
    "Import Weight Data imported from [QS Access iOS App](https://apps.apple.com/us/app/qs-access/id920297614) as CSV"
   ]
  },
  {
   "cell_type": "code",
   "execution_count": 1,
   "metadata": {},
   "outputs": [
    {
     "name": "stdout",
     "output_type": "stream",
     "text": [
      "1.0.1\n"
     ]
    }
   ],
   "source": [
    "import pandas as pd\n",
    "import numpy as np\n",
    "import matplotlib.pyplot as plt\n",
    "print(pd.__version__)"
   ]
  },
  {
   "cell_type": "code",
   "execution_count": 2,
   "metadata": {},
   "outputs": [],
   "source": [
    "weights = pd.read_csv(\"Weight.csv\")"
   ]
  },
  {
   "cell_type": "code",
   "execution_count": 3,
   "metadata": {},
   "outputs": [
    {
     "data": {
      "text/html": [
       "<div>\n",
       "<style scoped>\n",
       "    .dataframe tbody tr th:only-of-type {\n",
       "        vertical-align: middle;\n",
       "    }\n",
       "\n",
       "    .dataframe tbody tr th {\n",
       "        vertical-align: top;\n",
       "    }\n",
       "\n",
       "    .dataframe thead th {\n",
       "        text-align: right;\n",
       "    }\n",
       "</style>\n",
       "<table border=\"1\" class=\"dataframe\">\n",
       "  <thead>\n",
       "    <tr style=\"text-align: right;\">\n",
       "      <th></th>\n",
       "      <th>Start</th>\n",
       "      <th>Finish</th>\n",
       "      <th>Weight (lb)</th>\n",
       "    </tr>\n",
       "  </thead>\n",
       "  <tbody>\n",
       "    <tr>\n",
       "      <th>0</th>\n",
       "      <td>11-Dec-2017 07:11</td>\n",
       "      <td>11-Dec-2017 07:11</td>\n",
       "      <td>288.4</td>\n",
       "    </tr>\n",
       "    <tr>\n",
       "      <th>1</th>\n",
       "      <td>29-Dec-2017 07:46</td>\n",
       "      <td>29-Dec-2017 07:46</td>\n",
       "      <td>288.4</td>\n",
       "    </tr>\n",
       "    <tr>\n",
       "      <th>2</th>\n",
       "      <td>31-Dec-2017 09:24</td>\n",
       "      <td>31-Dec-2017 09:24</td>\n",
       "      <td>286.4</td>\n",
       "    </tr>\n",
       "    <tr>\n",
       "      <th>3</th>\n",
       "      <td>03-Jan-2018 06:48</td>\n",
       "      <td>03-Jan-2018 06:48</td>\n",
       "      <td>283.2</td>\n",
       "    </tr>\n",
       "    <tr>\n",
       "      <th>4</th>\n",
       "      <td>05-Jan-2018 06:39</td>\n",
       "      <td>05-Jan-2018 06:39</td>\n",
       "      <td>282.0</td>\n",
       "    </tr>\n",
       "  </tbody>\n",
       "</table>\n",
       "</div>"
      ],
      "text/plain": [
       "               Start             Finish  Weight (lb)\n",
       "0  11-Dec-2017 07:11  11-Dec-2017 07:11        288.4\n",
       "1  29-Dec-2017 07:46  29-Dec-2017 07:46        288.4\n",
       "2  31-Dec-2017 09:24  31-Dec-2017 09:24        286.4\n",
       "3  03-Jan-2018 06:48  03-Jan-2018 06:48        283.2\n",
       "4  05-Jan-2018 06:39  05-Jan-2018 06:39        282.0"
      ]
     },
     "execution_count": 3,
     "metadata": {},
     "output_type": "execute_result"
    }
   ],
   "source": [
    "weights.head()"
   ]
  },
  {
   "cell_type": "code",
   "execution_count": 4,
   "metadata": {},
   "outputs": [
    {
     "data": {
      "text/html": [
       "<div>\n",
       "<style scoped>\n",
       "    .dataframe tbody tr th:only-of-type {\n",
       "        vertical-align: middle;\n",
       "    }\n",
       "\n",
       "    .dataframe tbody tr th {\n",
       "        vertical-align: top;\n",
       "    }\n",
       "\n",
       "    .dataframe thead th {\n",
       "        text-align: right;\n",
       "    }\n",
       "</style>\n",
       "<table border=\"1\" class=\"dataframe\">\n",
       "  <thead>\n",
       "    <tr style=\"text-align: right;\">\n",
       "      <th></th>\n",
       "      <th>Weight (lb)</th>\n",
       "    </tr>\n",
       "  </thead>\n",
       "  <tbody>\n",
       "    <tr>\n",
       "      <th>count</th>\n",
       "      <td>184.000000</td>\n",
       "    </tr>\n",
       "    <tr>\n",
       "      <th>mean</th>\n",
       "      <td>282.369022</td>\n",
       "    </tr>\n",
       "    <tr>\n",
       "      <th>std</th>\n",
       "      <td>5.063160</td>\n",
       "    </tr>\n",
       "    <tr>\n",
       "      <th>min</th>\n",
       "      <td>271.400000</td>\n",
       "    </tr>\n",
       "    <tr>\n",
       "      <th>25%</th>\n",
       "      <td>279.300000</td>\n",
       "    </tr>\n",
       "    <tr>\n",
       "      <th>50%</th>\n",
       "      <td>282.300000</td>\n",
       "    </tr>\n",
       "    <tr>\n",
       "      <th>75%</th>\n",
       "      <td>285.250000</td>\n",
       "    </tr>\n",
       "    <tr>\n",
       "      <th>max</th>\n",
       "      <td>296.400000</td>\n",
       "    </tr>\n",
       "  </tbody>\n",
       "</table>\n",
       "</div>"
      ],
      "text/plain": [
       "       Weight (lb)\n",
       "count   184.000000\n",
       "mean    282.369022\n",
       "std       5.063160\n",
       "min     271.400000\n",
       "25%     279.300000\n",
       "50%     282.300000\n",
       "75%     285.250000\n",
       "max     296.400000"
      ]
     },
     "execution_count": 4,
     "metadata": {},
     "output_type": "execute_result"
    }
   ],
   "source": [
    "weights.describe()"
   ]
  },
  {
   "cell_type": "code",
   "execution_count": 5,
   "metadata": {},
   "outputs": [
    {
     "data": {
      "text/html": [
       "<div>\n",
       "<style scoped>\n",
       "    .dataframe tbody tr th:only-of-type {\n",
       "        vertical-align: middle;\n",
       "    }\n",
       "\n",
       "    .dataframe tbody tr th {\n",
       "        vertical-align: top;\n",
       "    }\n",
       "\n",
       "    .dataframe thead th {\n",
       "        text-align: right;\n",
       "    }\n",
       "</style>\n",
       "<table border=\"1\" class=\"dataframe\">\n",
       "  <thead>\n",
       "    <tr style=\"text-align: right;\">\n",
       "      <th></th>\n",
       "      <th>Date</th>\n",
       "      <th>Weight</th>\n",
       "    </tr>\n",
       "  </thead>\n",
       "  <tbody>\n",
       "    <tr>\n",
       "      <th>0</th>\n",
       "      <td>2017-12-11 07:11:00</td>\n",
       "      <td>288.4</td>\n",
       "    </tr>\n",
       "    <tr>\n",
       "      <th>1</th>\n",
       "      <td>2017-12-29 07:46:00</td>\n",
       "      <td>288.4</td>\n",
       "    </tr>\n",
       "    <tr>\n",
       "      <th>2</th>\n",
       "      <td>2017-12-31 09:24:00</td>\n",
       "      <td>286.4</td>\n",
       "    </tr>\n",
       "    <tr>\n",
       "      <th>3</th>\n",
       "      <td>2018-01-03 06:48:00</td>\n",
       "      <td>283.2</td>\n",
       "    </tr>\n",
       "    <tr>\n",
       "      <th>4</th>\n",
       "      <td>2018-01-05 06:39:00</td>\n",
       "      <td>282.0</td>\n",
       "    </tr>\n",
       "    <tr>\n",
       "      <th>...</th>\n",
       "      <td>...</td>\n",
       "      <td>...</td>\n",
       "    </tr>\n",
       "    <tr>\n",
       "      <th>179</th>\n",
       "      <td>2020-04-25 07:29:00</td>\n",
       "      <td>275.6</td>\n",
       "    </tr>\n",
       "    <tr>\n",
       "      <th>180</th>\n",
       "      <td>2020-04-26 07:21:00</td>\n",
       "      <td>275.1</td>\n",
       "    </tr>\n",
       "    <tr>\n",
       "      <th>181</th>\n",
       "      <td>2020-04-27 07:13:00</td>\n",
       "      <td>276.2</td>\n",
       "    </tr>\n",
       "    <tr>\n",
       "      <th>182</th>\n",
       "      <td>2020-04-28 06:19:00</td>\n",
       "      <td>276.5</td>\n",
       "    </tr>\n",
       "    <tr>\n",
       "      <th>183</th>\n",
       "      <td>2020-04-29 08:57:00</td>\n",
       "      <td>275.1</td>\n",
       "    </tr>\n",
       "  </tbody>\n",
       "</table>\n",
       "<p>184 rows × 2 columns</p>\n",
       "</div>"
      ],
      "text/plain": [
       "                   Date  Weight\n",
       "0   2017-12-11 07:11:00   288.4\n",
       "1   2017-12-29 07:46:00   288.4\n",
       "2   2017-12-31 09:24:00   286.4\n",
       "3   2018-01-03 06:48:00   283.2\n",
       "4   2018-01-05 06:39:00   282.0\n",
       "..                  ...     ...\n",
       "179 2020-04-25 07:29:00   275.6\n",
       "180 2020-04-26 07:21:00   275.1\n",
       "181 2020-04-27 07:13:00   276.2\n",
       "182 2020-04-28 06:19:00   276.5\n",
       "183 2020-04-29 08:57:00   275.1\n",
       "\n",
       "[184 rows x 2 columns]"
      ]
     },
     "execution_count": 5,
     "metadata": {},
     "output_type": "execute_result"
    }
   ],
   "source": [
    "# filter out duplicate date columns\n",
    "cols = [\"Start\",\"Weight (lb)\"] \n",
    "weights = weights[cols] \n",
    "\n",
    "# rename columns\n",
    "weights.columns = ['Date', 'Weight']\n",
    "\n",
    "# convert date string to datetime object\n",
    "weights['Date'] = pd.to_datetime(weights['Date'])\n",
    "\n",
    "weights"
   ]
  },
  {
   "cell_type": "code",
   "execution_count": 6,
   "metadata": {},
   "outputs": [
    {
     "data": {
      "text/html": [
       "<div>\n",
       "<style scoped>\n",
       "    .dataframe tbody tr th:only-of-type {\n",
       "        vertical-align: middle;\n",
       "    }\n",
       "\n",
       "    .dataframe tbody tr th {\n",
       "        vertical-align: top;\n",
       "    }\n",
       "\n",
       "    .dataframe thead th {\n",
       "        text-align: right;\n",
       "    }\n",
       "</style>\n",
       "<table border=\"1\" class=\"dataframe\">\n",
       "  <thead>\n",
       "    <tr style=\"text-align: right;\">\n",
       "      <th></th>\n",
       "      <th>Date</th>\n",
       "      <th>Weight</th>\n",
       "      <th>Trend</th>\n",
       "    </tr>\n",
       "  </thead>\n",
       "  <tbody>\n",
       "    <tr>\n",
       "      <th>0</th>\n",
       "      <td>2017-12-11 07:11:00</td>\n",
       "      <td>288.4</td>\n",
       "      <td>288.4</td>\n",
       "    </tr>\n",
       "    <tr>\n",
       "      <th>1</th>\n",
       "      <td>2017-12-29 07:46:00</td>\n",
       "      <td>288.4</td>\n",
       "      <td>288.4</td>\n",
       "    </tr>\n",
       "    <tr>\n",
       "      <th>2</th>\n",
       "      <td>2017-12-31 09:24:00</td>\n",
       "      <td>286.4</td>\n",
       "      <td>288.2</td>\n",
       "    </tr>\n",
       "    <tr>\n",
       "      <th>3</th>\n",
       "      <td>2018-01-03 06:48:00</td>\n",
       "      <td>283.2</td>\n",
       "      <td>287.7</td>\n",
       "    </tr>\n",
       "    <tr>\n",
       "      <th>4</th>\n",
       "      <td>2018-01-05 06:39:00</td>\n",
       "      <td>282.0</td>\n",
       "      <td>287.1</td>\n",
       "    </tr>\n",
       "    <tr>\n",
       "      <th>...</th>\n",
       "      <td>...</td>\n",
       "      <td>...</td>\n",
       "      <td>...</td>\n",
       "    </tr>\n",
       "    <tr>\n",
       "      <th>179</th>\n",
       "      <td>2020-04-25 07:29:00</td>\n",
       "      <td>275.6</td>\n",
       "      <td>278.4</td>\n",
       "    </tr>\n",
       "    <tr>\n",
       "      <th>180</th>\n",
       "      <td>2020-04-26 07:21:00</td>\n",
       "      <td>275.1</td>\n",
       "      <td>278.1</td>\n",
       "    </tr>\n",
       "    <tr>\n",
       "      <th>181</th>\n",
       "      <td>2020-04-27 07:13:00</td>\n",
       "      <td>276.2</td>\n",
       "      <td>277.9</td>\n",
       "    </tr>\n",
       "    <tr>\n",
       "      <th>182</th>\n",
       "      <td>2020-04-28 06:19:00</td>\n",
       "      <td>276.5</td>\n",
       "      <td>277.8</td>\n",
       "    </tr>\n",
       "    <tr>\n",
       "      <th>183</th>\n",
       "      <td>2020-04-29 08:57:00</td>\n",
       "      <td>275.1</td>\n",
       "      <td>277.5</td>\n",
       "    </tr>\n",
       "  </tbody>\n",
       "</table>\n",
       "<p>184 rows × 3 columns</p>\n",
       "</div>"
      ],
      "text/plain": [
       "                   Date  Weight  Trend\n",
       "0   2017-12-11 07:11:00   288.4  288.4\n",
       "1   2017-12-29 07:46:00   288.4  288.4\n",
       "2   2017-12-31 09:24:00   286.4  288.2\n",
       "3   2018-01-03 06:48:00   283.2  287.7\n",
       "4   2018-01-05 06:39:00   282.0  287.1\n",
       "..                  ...     ...    ...\n",
       "179 2020-04-25 07:29:00   275.6  278.4\n",
       "180 2020-04-26 07:21:00   275.1  278.1\n",
       "181 2020-04-27 07:13:00   276.2  277.9\n",
       "182 2020-04-28 06:19:00   276.5  277.8\n",
       "183 2020-04-29 08:57:00   275.1  277.5\n",
       "\n",
       "[184 rows x 3 columns]"
      ]
     },
     "execution_count": 6,
     "metadata": {},
     "output_type": "execute_result"
    }
   ],
   "source": [
    "# copy first weight to trend column\n",
    "weights.at[0,'Trend'] = weights['Weight'].iloc[0]\n",
    "\n",
    "# Calculate the Trend given the smoothing constant c\n",
    "c = 0.9\n",
    "for i, row in weights[1:].iterrows():\n",
    "        res = (1 - c) * (weights['Weight'][i] - weights['Trend'][i - 1])\n",
    "        res = round(res,1)\n",
    "        weights.at[i,'Trend'] = res + weights['Trend'][i - 1]\n",
    "\n",
    "weights"
   ]
  },
  {
   "cell_type": "code",
   "execution_count": 7,
   "metadata": {},
   "outputs": [
    {
     "data": {
      "text/html": [
       "<div>\n",
       "<style scoped>\n",
       "    .dataframe tbody tr th:only-of-type {\n",
       "        vertical-align: middle;\n",
       "    }\n",
       "\n",
       "    .dataframe tbody tr th {\n",
       "        vertical-align: top;\n",
       "    }\n",
       "\n",
       "    .dataframe thead th {\n",
       "        text-align: right;\n",
       "    }\n",
       "</style>\n",
       "<table border=\"1\" class=\"dataframe\">\n",
       "  <thead>\n",
       "    <tr style=\"text-align: right;\">\n",
       "      <th></th>\n",
       "      <th>Date</th>\n",
       "      <th>Weight</th>\n",
       "      <th>Trend</th>\n",
       "      <th>Lbs_per_day</th>\n",
       "    </tr>\n",
       "  </thead>\n",
       "  <tbody>\n",
       "    <tr>\n",
       "      <th>0</th>\n",
       "      <td>2017-12-11 07:11:00</td>\n",
       "      <td>288.4</td>\n",
       "      <td>288.4</td>\n",
       "      <td>0.0</td>\n",
       "    </tr>\n",
       "    <tr>\n",
       "      <th>1</th>\n",
       "      <td>2017-12-29 07:46:00</td>\n",
       "      <td>288.4</td>\n",
       "      <td>288.4</td>\n",
       "      <td>0.0</td>\n",
       "    </tr>\n",
       "    <tr>\n",
       "      <th>2</th>\n",
       "      <td>2017-12-31 09:24:00</td>\n",
       "      <td>286.4</td>\n",
       "      <td>288.2</td>\n",
       "      <td>-0.2</td>\n",
       "    </tr>\n",
       "    <tr>\n",
       "      <th>3</th>\n",
       "      <td>2018-01-03 06:48:00</td>\n",
       "      <td>283.2</td>\n",
       "      <td>287.7</td>\n",
       "      <td>-0.5</td>\n",
       "    </tr>\n",
       "    <tr>\n",
       "      <th>4</th>\n",
       "      <td>2018-01-05 06:39:00</td>\n",
       "      <td>282.0</td>\n",
       "      <td>287.1</td>\n",
       "      <td>-0.6</td>\n",
       "    </tr>\n",
       "    <tr>\n",
       "      <th>...</th>\n",
       "      <td>...</td>\n",
       "      <td>...</td>\n",
       "      <td>...</td>\n",
       "      <td>...</td>\n",
       "    </tr>\n",
       "    <tr>\n",
       "      <th>179</th>\n",
       "      <td>2020-04-25 07:29:00</td>\n",
       "      <td>275.6</td>\n",
       "      <td>278.4</td>\n",
       "      <td>-0.3</td>\n",
       "    </tr>\n",
       "    <tr>\n",
       "      <th>180</th>\n",
       "      <td>2020-04-26 07:21:00</td>\n",
       "      <td>275.1</td>\n",
       "      <td>278.1</td>\n",
       "      <td>-0.3</td>\n",
       "    </tr>\n",
       "    <tr>\n",
       "      <th>181</th>\n",
       "      <td>2020-04-27 07:13:00</td>\n",
       "      <td>276.2</td>\n",
       "      <td>277.9</td>\n",
       "      <td>-0.2</td>\n",
       "    </tr>\n",
       "    <tr>\n",
       "      <th>182</th>\n",
       "      <td>2020-04-28 06:19:00</td>\n",
       "      <td>276.5</td>\n",
       "      <td>277.8</td>\n",
       "      <td>-0.1</td>\n",
       "    </tr>\n",
       "    <tr>\n",
       "      <th>183</th>\n",
       "      <td>2020-04-29 08:57:00</td>\n",
       "      <td>275.1</td>\n",
       "      <td>277.5</td>\n",
       "      <td>-0.3</td>\n",
       "    </tr>\n",
       "  </tbody>\n",
       "</table>\n",
       "<p>184 rows × 4 columns</p>\n",
       "</div>"
      ],
      "text/plain": [
       "                   Date  Weight  Trend  Lbs_per_day\n",
       "0   2017-12-11 07:11:00   288.4  288.4          0.0\n",
       "1   2017-12-29 07:46:00   288.4  288.4          0.0\n",
       "2   2017-12-31 09:24:00   286.4  288.2         -0.2\n",
       "3   2018-01-03 06:48:00   283.2  287.7         -0.5\n",
       "4   2018-01-05 06:39:00   282.0  287.1         -0.6\n",
       "..                  ...     ...    ...          ...\n",
       "179 2020-04-25 07:29:00   275.6  278.4         -0.3\n",
       "180 2020-04-26 07:21:00   275.1  278.1         -0.3\n",
       "181 2020-04-27 07:13:00   276.2  277.9         -0.2\n",
       "182 2020-04-28 06:19:00   276.5  277.8         -0.1\n",
       "183 2020-04-29 08:57:00   275.1  277.5         -0.3\n",
       "\n",
       "[184 rows x 4 columns]"
      ]
     },
     "execution_count": 7,
     "metadata": {},
     "output_type": "execute_result"
    }
   ],
   "source": [
    "# copy put zeros in rate col\n",
    "weights.at[0,'Lbs_per_day'] = 0\n",
    "\n",
    "#get daily rates\n",
    "for i, row in weights[1:].iterrows():\n",
    "        weights.at[i,'Lbs_per_day'] = weights['Trend'][i] - weights['Trend'][i - 1]\n",
    "\n",
    "weights"
   ]
  },
  {
   "cell_type": "code",
   "execution_count": 8,
   "metadata": {},
   "outputs": [
    {
     "data": {
      "text/plain": [
       "<matplotlib.axes._subplots.AxesSubplot at 0x11defa350>"
      ]
     },
     "execution_count": 8,
     "metadata": {},
     "output_type": "execute_result"
    },
    {
     "data": {
      "image/png": "[encoded data removed]",
      "text/plain": [
       "<Figure size 720x432 with 1 Axes>"
      ]
     },
     "metadata": {
      "needs_background": "light"
     },
     "output_type": "display_data"
    }
   ],
   "source": [
    "startDate = pd.to_datetime(\"January 15, 2020\")\n",
    "endDate = pd.Timestamp.now()\n",
    "domain = (startDate,endDate)\n",
    "weights.plot.line(figsize=(10,6),x = \"Date\", legend=True, xlim=domain)"
   ]
  },
  {
   "cell_type": "markdown",
   "metadata": {},
   "source": [
    "## To Do:\n",
    "\n",
    "- ~Add column to weights dataFrame of calculated trend D~\n",
    "- ~plot trend and weight~\n",
    "- calculate linear fits and project goal target dates\n",
    "    - possibly multiple models based on a range?\n",
    "- make an exportable form & workflow so we can easily upload data and run report"
   ]
  },
  {
   "cell_type": "markdown",
   "metadata": {},
   "source": [
    "https://stackoverflow.com/questions/37337836/linear-regression-with-pandas-time-series"
   ]
  },
  {
   "cell_type": "code",
   "execution_count": 9,
   "metadata": {},
   "outputs": [
    {
     "data": {
      "text/html": [
       "<div>\n",
       "<style scoped>\n",
       "    .dataframe tbody tr th:only-of-type {\n",
       "        vertical-align: middle;\n",
       "    }\n",
       "\n",
       "    .dataframe tbody tr th {\n",
       "        vertical-align: top;\n",
       "    }\n",
       "\n",
       "    .dataframe thead th {\n",
       "        text-align: right;\n",
       "    }\n",
       "</style>\n",
       "<table border=\"1\" class=\"dataframe\">\n",
       "  <thead>\n",
       "    <tr style=\"text-align: right;\">\n",
       "      <th></th>\n",
       "      <th>Date</th>\n",
       "      <th>Weight</th>\n",
       "      <th>Trend</th>\n",
       "      <th>Lbs_per_day</th>\n",
       "    </tr>\n",
       "  </thead>\n",
       "  <tbody>\n",
       "    <tr>\n",
       "      <th>78</th>\n",
       "      <td>2020-01-15 07:35:00</td>\n",
       "      <td>296.4</td>\n",
       "      <td>282.5</td>\n",
       "      <td>1.5</td>\n",
       "    </tr>\n",
       "    <tr>\n",
       "      <th>79</th>\n",
       "      <td>2020-01-16 07:03:00</td>\n",
       "      <td>293.3</td>\n",
       "      <td>283.6</td>\n",
       "      <td>1.1</td>\n",
       "    </tr>\n",
       "    <tr>\n",
       "      <th>80</th>\n",
       "      <td>2020-01-17 06:01:00</td>\n",
       "      <td>291.4</td>\n",
       "      <td>284.4</td>\n",
       "      <td>0.8</td>\n",
       "    </tr>\n",
       "    <tr>\n",
       "      <th>81</th>\n",
       "      <td>2020-01-18 07:46:00</td>\n",
       "      <td>293.0</td>\n",
       "      <td>285.3</td>\n",
       "      <td>0.9</td>\n",
       "    </tr>\n",
       "    <tr>\n",
       "      <th>82</th>\n",
       "      <td>2020-01-19 06:36:00</td>\n",
       "      <td>294.4</td>\n",
       "      <td>286.2</td>\n",
       "      <td>0.9</td>\n",
       "    </tr>\n",
       "    <tr>\n",
       "      <th>...</th>\n",
       "      <td>...</td>\n",
       "      <td>...</td>\n",
       "      <td>...</td>\n",
       "      <td>...</td>\n",
       "    </tr>\n",
       "    <tr>\n",
       "      <th>179</th>\n",
       "      <td>2020-04-25 07:29:00</td>\n",
       "      <td>275.6</td>\n",
       "      <td>278.4</td>\n",
       "      <td>-0.3</td>\n",
       "    </tr>\n",
       "    <tr>\n",
       "      <th>180</th>\n",
       "      <td>2020-04-26 07:21:00</td>\n",
       "      <td>275.1</td>\n",
       "      <td>278.1</td>\n",
       "      <td>-0.3</td>\n",
       "    </tr>\n",
       "    <tr>\n",
       "      <th>181</th>\n",
       "      <td>2020-04-27 07:13:00</td>\n",
       "      <td>276.2</td>\n",
       "      <td>277.9</td>\n",
       "      <td>-0.2</td>\n",
       "    </tr>\n",
       "    <tr>\n",
       "      <th>182</th>\n",
       "      <td>2020-04-28 06:19:00</td>\n",
       "      <td>276.5</td>\n",
       "      <td>277.8</td>\n",
       "      <td>-0.1</td>\n",
       "    </tr>\n",
       "    <tr>\n",
       "      <th>183</th>\n",
       "      <td>2020-04-29 08:57:00</td>\n",
       "      <td>275.1</td>\n",
       "      <td>277.5</td>\n",
       "      <td>-0.3</td>\n",
       "    </tr>\n",
       "  </tbody>\n",
       "</table>\n",
       "<p>106 rows × 4 columns</p>\n",
       "</div>"
      ],
      "text/plain": [
       "                   Date  Weight  Trend  Lbs_per_day\n",
       "78  2020-01-15 07:35:00   296.4  282.5          1.5\n",
       "79  2020-01-16 07:03:00   293.3  283.6          1.1\n",
       "80  2020-01-17 06:01:00   291.4  284.4          0.8\n",
       "81  2020-01-18 07:46:00   293.0  285.3          0.9\n",
       "82  2020-01-19 06:36:00   294.4  286.2          0.9\n",
       "..                  ...     ...    ...          ...\n",
       "179 2020-04-25 07:29:00   275.6  278.4         -0.3\n",
       "180 2020-04-26 07:21:00   275.1  278.1         -0.3\n",
       "181 2020-04-27 07:13:00   276.2  277.9         -0.2\n",
       "182 2020-04-28 06:19:00   276.5  277.8         -0.1\n",
       "183 2020-04-29 08:57:00   275.1  277.5         -0.3\n",
       "\n",
       "[106 rows x 4 columns]"
      ]
     },
     "execution_count": 9,
     "metadata": {},
     "output_type": "execute_result"
    }
   ],
   "source": [
    "# Get subset of all weights based on date range\n",
    "startDate = pd.to_datetime(\"January 15, 2020\")\n",
    "endDate = pd.Timestamp.now()\n",
    "mask = (weights['Date'] > startDate) & (weights['Date'] <= endDate)\n",
    "\n",
    "filteredWeights = weights[mask]\n",
    "filteredWeights"
   ]
  },
  {
   "cell_type": "code",
   "execution_count": 10,
   "metadata": {},
   "outputs": [],
   "source": [
    "y = filteredWeights['Trend'].tolist()\n",
    "x = range(len(y))\n",
    "fit = np.polyfit(x,y,1)\n",
    "fit_fn = np.poly1d(fit)\n",
    "goal = 225*np.ones(500)"
   ]
  },
  {
   "cell_type": "code",
   "execution_count": 11,
   "metadata": {},
   "outputs": [
    {
     "data": {
      "text/plain": [
       "[<matplotlib.lines.Line2D at 0x11e68fb90>]"
      ]
     },
     "execution_count": 11,
     "metadata": {},
     "output_type": "execute_result"
    },
    {
     "data": {
      "image/png": "[encoded data removed]",
      "text/plain": [
       "<Figure size 432x288 with 1 Axes>"
      ]
     },
     "metadata": {
      "needs_background": "light"
     },
     "output_type": "display_data"
    }
   ],
   "source": [
    "plt.plot(filteredWeights['Date'], fit_fn(x), 'k-')\n",
    "plt.plot(filteredWeights['Date'], filteredWeights['Trend'], 'go', ms = 4)"
   ]
  },
  {
   "cell_type": "code",
   "execution_count": 12,
   "metadata": {},
   "outputs": [
    {
     "name": "stdout",
     "output_type": "stream",
     "text": [
      "Day: 666  Value:  224.95227800589333\n"
     ]
    }
   ],
   "source": [
    "dietStartDate = pd.to_datetime(\"January 15, 2020\") \n",
    "today = pd.Timestamp.now()\n",
    "dietLength = (today - dietStartDate).days\n",
    "\n",
    "i = 28\n",
    "while fit_fn(i) > 225:\n",
    "    i += 1\n",
    "    \n",
    "fit_fn(i)\n",
    "print(\"Day:\",i,\" Value: \",fit_fn(i))"
   ]
  },
  {
   "cell_type": "code",
   "execution_count": 13,
   "metadata": {},
   "outputs": [
    {
     "data": {
      "text/plain": [
       "Timestamp('2021-11-11 00:00:00')"
      ]
     },
     "execution_count": 13,
     "metadata": {},
     "output_type": "execute_result"
    }
   ],
   "source": [
    "dietStartDate + pd.DateOffset(i)"
   ]
  },
  {
   "cell_type": "code",
   "execution_count": 14,
   "metadata": {},
   "outputs": [
    {
     "data": {
      "text/plain": [
       "Timestamp('2020-01-25 00:00:00')"
      ]
     },
     "execution_count": 14,
     "metadata": {},
     "output_type": "execute_result"
    }
   ],
   "source": [
    "dietStartDate + pd.DateOffset(10)"
   ]
  },
  {
   "cell_type": "code",
   "execution_count": 21,
   "metadata": {},
   "outputs": [
    {
     "name": "stdout",
     "output_type": "stream",
     "text": [
      "250.4092626646842\n",
      "250.31355971483913\n",
      "250.21785676499405\n",
      "250.12215381514898\n",
      "250.0264508653039\n",
      "249.93074791545882\n",
      "249.83504496561375\n",
      "249.73934201576864\n",
      "249.64363906592357\n",
      "249.5479361160785\n",
      "249.4522331662334\n",
      "249.35653021638834\n",
      "249.26082726654326\n",
      "249.16512431669818\n",
      "249.0694213668531\n",
      "248.97371841700803\n",
      "248.87801546716295\n",
      "248.78231251731788\n",
      "248.6866095674728\n",
      "248.5909066176277\n"
     ]
    }
   ],
   "source": [
    "for i in range(400,420):\n",
    "    print(fit_fn(i))"
   ]
  },
  {
   "cell_type": "code",
   "execution_count": 16,
   "metadata": {},
   "outputs": [
    {
     "data": {
      "text/plain": [
       "numpy.poly1d"
      ]
     },
     "execution_count": 16,
     "metadata": {},
     "output_type": "execute_result"
    }
   ],
   "source": [
    "type(fit_fn)"
   ]
  },
  {
   "cell_type": "code",
   "execution_count": 17,
   "metadata": {},
   "outputs": [
    {
     "name": "stdout",
     "output_type": "stream",
     "text": [
      " \n",
      "-0.0957 x + 288.7\n"
     ]
    }
   ],
   "source": [
    "print(np.poly1d(fit_fn))"
   ]
  },
  {
   "cell_type": "code",
   "execution_count": null,
   "metadata": {},
   "outputs": [],
   "source": []
  },
  {
   "cell_type": "code",
   "execution_count": null,
   "metadata": {},
   "outputs": [],
   "source": []
  },
  {
   "cell_type": "code",
   "execution_count": null,
   "metadata": {},
   "outputs": [],
   "source": []
  }
 ],
 "metadata": {
  "kernelspec": {
   "display_name": "Python 3",
   "language": "python",
   "name": "python3"
  },
  "language_info": {
   "codemirror_mode": {
    "name": "ipython",
    "version": 3
   },
   "file_extension": ".py",
   "mimetype": "text/x-python",
   "name": "python",
   "nbconvert_exporter": "python",
   "pygments_lexer": "ipython3",
   "version": "3.7.6"
  }
 },
 "nbformat": 4,
 "nbformat_minor": 4
}
