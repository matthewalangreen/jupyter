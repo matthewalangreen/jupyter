{
 "cells": [
  {
   "cell_type": "markdown",
   "metadata": {},
   "source": [
    "### Reference\n",
    "\n",
    "- https://www.instructables.com/id/Export-data-from-google-spreadsheet-in-required-CS/\n",
    "- https://medium.com/bhavaniravi/python-pandas-tutorial-92018da85a33\n",
    "- [Pandas API Reference](https://pandas.pydata.org/pandas-docs/stable/reference/index.html)\n",
    "- [Parsing input CSV dates](https://riptutorial.com/pandas/example/8458/parsing-date-columns-with-read-csv)\n",
    "- [Convert column of dataFrame](https://stackoverflow.com/questions/17134716/convert-dataframe-column-type-from-string-to-datetime-dd-mm-yyyy-format)\n",
    "- [Data Visualization](https://pandas.pydata.org/pandas-docs/stable/user_guide/visualization.html#visualization)\n",
    "- [Weighted Average Tutorial](https://pbpython.com/weighted-average.html)"
   ]
  },
  {
   "cell_type": "markdown",
   "metadata": {},
   "source": [
    "https://stackoverflow.com/questions/37337836/linear-regression-with-pandas-time-series"
   ]
  },
  {
   "cell_type": "markdown",
   "metadata": {},
   "source": [
    "## To Do:\n",
    "\n",
    "- ~Add column to weights dataFrame of calculated trend D~\n",
    "- ~plot trend and weight~\n",
    "- calculate linear fits and project goal target dates\n",
    "    - possibly multiple models based on a range?\n",
    "- make an exportable form & workflow so we can easily upload data and run report"
   ]
  },
  {
   "cell_type": "markdown",
   "metadata": {},
   "source": [
    "### About\n",
    "\n",
    "Import Weight Data imported from [QS Access iOS App](https://apps.apple.com/us/app/qs-access/id920297614) as CSV"
   ]
  },
  {
   "cell_type": "code",
   "execution_count": 1,
   "metadata": {},
   "outputs": [],
   "source": [
    "#setup doc\n",
    "import pandas as pd\n",
    "import numpy as np\n",
    "import matplotlib.pyplot as plt\n",
    "#print(pd.__version__)"
   ]
  },
  {
   "cell_type": "code",
   "execution_count": 2,
   "metadata": {},
   "outputs": [],
   "source": [
    "weights = pd.read_csv(\"Weight.csv\")"
   ]
  },
  {
   "cell_type": "code",
   "execution_count": 3,
   "metadata": {},
   "outputs": [],
   "source": [
    "weights.head();"
   ]
  },
  {
   "cell_type": "code",
   "execution_count": 4,
   "metadata": {},
   "outputs": [],
   "source": [
    "weights.describe;"
   ]
  },
  {
   "cell_type": "code",
   "execution_count": 5,
   "metadata": {},
   "outputs": [],
   "source": [
    "# filter out duplicate date columns\n",
    "cols = [\"Start\",\"Weight (lb)\"] \n",
    "weights = weights[cols] \n",
    "\n",
    "# rename columns\n",
    "weights.columns = ['Date', 'Weight']\n",
    "\n",
    "# convert date string to datetime object\n",
    "weights['Date'] = pd.to_datetime(weights['Date'])\n",
    "\n",
    "weights;"
   ]
  },
  {
   "cell_type": "code",
   "execution_count": 6,
   "metadata": {},
   "outputs": [],
   "source": [
    "# copy first weight to trend column\n",
    "weights.at[0,'Trend'] = weights['Weight'].iloc[0]\n",
    "\n",
    "# Calculate the Trend given the smoothing constant c\n",
    "c = 0.9\n",
    "for i, row in weights[1:].iterrows():\n",
    "        res = (1 - c) * (weights['Weight'][i] - weights['Trend'][i - 1])\n",
    "        res = round(res,1)\n",
    "        weights.at[i,'Trend'] = res + weights['Trend'][i - 1]\n",
    "\n",
    "weights;"
   ]
  },
  {
   "cell_type": "code",
   "execution_count": 7,
   "metadata": {},
   "outputs": [],
   "source": [
    "# copy put zeros in rate col\n",
    "weights.at[0,'Lbs_per_day'] = 0\n",
    "\n",
    "#get daily rates\n",
    "for i, row in weights[1:].iterrows():\n",
    "        weights.at[i,'Lbs_per_day'] = weights['Trend'][i] - weights['Trend'][i - 1]\n",
    "\n",
    "weights;"
   ]
  },
  {
   "cell_type": "code",
   "execution_count": 8,
   "metadata": {},
   "outputs": [],
   "source": [
    "startDate = pd.to_datetime(\"January 15, 2020\")\n",
    "endDate = pd.Timestamp.now()\n",
    "domain = (startDate,endDate)\n",
    "#weights.plot.line(figsize=(10,6),x = \"Date\", legend=True, xlim=domain)"
   ]
  },
  {
   "cell_type": "code",
   "execution_count": 20,
   "metadata": {},
   "outputs": [
    {
     "data": {
      "text/plain": [
       "[<matplotlib.lines.Line2D at 0x115b6be90>]"
      ]
     },
     "execution_count": 20,
     "metadata": {},
     "output_type": "execute_result"
    },
    {
     "data": {
      "image/png": "[encoded data removed]",
      "text/plain": [
       "<Figure size 1080x288 with 1 Axes>"
      ]
     },
     "metadata": {
      "needs_background": "light"
     },
     "output_type": "display_data"
    }
   ],
   "source": [
    "dietStartDate = pd.to_datetime(\"January 15, 2020\") \n",
    "\n",
    "# Get subset of all weights based on date range\n",
    "startDate = pd.to_datetime(\"April 20, 2020\")\n",
    "today = pd.Timestamp.now()\n",
    "mask = (weights['Date'] > startDate) & (weights['Date'] <= today)\n",
    "\n",
    "dietLength = (today - dietStartDate).days\n",
    "\n",
    "filteredWeights = weights[mask]\n",
    "\n",
    "y = filteredWeights['Trend'].tolist()\n",
    "x = range(len(y))\n",
    "fit = np.polyfit(x,y,1)\n",
    "fit_fn = np.poly1d(fit)\n",
    "goal = 225*np.ones(500)\n",
    "\n",
    "plt.figure(figsize = [15,4])\n",
    "plt.plot(filteredWeights['Date'], fit_fn(x), 'k-')\n",
    "plt.plot(filteredWeights['Date'], filteredWeights['Trend'], 'go', ms = 4)"
   ]
  },
  {
   "cell_type": "code",
   "execution_count": 19,
   "metadata": {},
   "outputs": [
    {
     "name": "stdout",
     "output_type": "stream",
     "text": [
      "Goal Reached:  9 / 11 / 2020 :  135 Days from now.\n"
     ]
    }
   ],
   "source": [
    "i = dietLength\n",
    "while fit_fn(i) > 225:\n",
    "    i += 1\n",
    "    \n",
    "fit_fn(i)\n",
    "#print(\"Day:\",i,\" Value: \",fit_fn(i))\n",
    "goalDay = dietStartDate + pd.DateOffset(i)\n",
    "print(\"Goal Reached: \",goalDay.month,\"/\",goalDay.day,\"/\",goalDay.year, \": \",i-dietLength, \"Days from now.\")\n",
    "#print(np.poly1d(fit_fn))"
   ]
  },
  {
   "cell_type": "code",
   "execution_count": null,
   "metadata": {},
   "outputs": [],
   "source": [
    "# get date range\n",
    "# make fit line\n",
    "# calculate date reached"
   ]
  }
 ],
 "metadata": {
  "kernelspec": {
   "display_name": "Python 3",
   "language": "python",
   "name": "python3"
  },
  "language_info": {
   "codemirror_mode": {
    "name": "ipython",
    "version": 3
   },
   "file_extension": ".py",
   "mimetype": "text/x-python",
   "name": "python",
   "nbconvert_exporter": "python",
   "pygments_lexer": "ipython3",
   "version": "3.7.6"
  }
 },
 "nbformat": 4,
 "nbformat_minor": 4
}
