{
 "cells": [
  {
   "cell_type": "markdown",
   "metadata": {},
   "source": [
    "## Setup & Import Data"
   ]
  },
  {
   "cell_type": "code",
   "execution_count": 1,
   "metadata": {},
   "outputs": [],
   "source": [
    "# setup doc\n",
    "import pandas as pd\n",
    "import numpy as np\n",
    "import matplotlib.pyplot as plt\n",
    "\n",
    "# import data\n",
    "weights = pd.read_csv(\"Weight.csv\")\n",
    "\n",
    "# filter out duplicate date columns\n",
    "cols = [\"Start\",\"Weight (lb)\"] \n",
    "weights = weights[cols] \n",
    "\n",
    "# rename columns\n",
    "weights.columns = ['Date', 'Weight']\n",
    "\n",
    "# convert date string to datetime object\n",
    "weights['Date'] = pd.to_datetime(weights['Date'])\n",
    "\n",
    "# copy first weight to trend column\n",
    "weights.at[0,'Trend'] = weights['Weight'].iloc[0]\n",
    "\n",
    "# Calculate the Trend given the smoothing constant c\n",
    "c = 0.9\n",
    "for i, row in weights[1:].iterrows():\n",
    "        res = (1 - c) * (weights['Weight'][i] - weights['Trend'][i - 1])\n",
    "        res = round(res,1)\n",
    "        weights.at[i,'Trend'] = res + weights['Trend'][i - 1]\n",
    "\n",
    "\n",
    "# copy put zeros in rate col\n",
    "weights.at[0,'Lbs_per_day'] = 0\n",
    "\n",
    "#get daily rates\n",
    "for i, row in weights[1:].iterrows():\n",
    "        weights.at[i,'Lbs_per_day'] = weights['Trend'][i] - weights['Trend'][i - 1]"
   ]
  },
  {
   "cell_type": "code",
   "execution_count": 2,
   "metadata": {},
   "outputs": [],
   "source": [
    "weights;"
   ]
  },
  {
   "cell_type": "markdown",
   "metadata": {},
   "source": [
    "## Plotting"
   ]
  },
  {
   "cell_type": "code",
   "execution_count": 3,
   "metadata": {},
   "outputs": [],
   "source": [
    "# plot\n",
    "startDate = pd.to_datetime(\"January 15, 2020\")\n",
    "endDate = pd.Timestamp.now()\n",
    "domain = (startDate,endDate)\n",
    "#weights.plot.line(figsize=(10,6),x = \"Date\", legend=True, xlim=domain)"
   ]
  },
  {
   "cell_type": "markdown",
   "metadata": {},
   "source": [
    "## Params"
   ]
  },
  {
   "cell_type": "code",
   "execution_count": 4,
   "metadata": {},
   "outputs": [],
   "source": [
    "dietStart = \"January 15, 2020\"\n",
    "start = \"April 20, 2020\"\n",
    "end = \"April 28, 2020\""
   ]
  },
  {
   "cell_type": "markdown",
   "metadata": {},
   "source": [
    "## Trend Calculations"
   ]
  },
  {
   "cell_type": "code",
   "execution_count": 5,
   "metadata": {},
   "outputs": [],
   "source": [
    "def makeLinearFit(x,y):\n",
    "    return np.poly1d(np.polyfit(x,y,y))"
   ]
  },
  {
   "cell_type": "code",
   "execution_count": 6,
   "metadata": {},
   "outputs": [
    {
     "ename": "TypeError",
     "evalue": "int() argument must be a string, a bytes-like object or a number, not 'list'",
     "output_type": "error",
     "traceback": [
      "\u001b[0;31m---------------------------------------------------------------------------\u001b[0m",
      "\u001b[0;31mTypeError\u001b[0m                                 Traceback (most recent call last)",
      "\u001b[0;32m<ipython-input-6-354954d9974c>\u001b[0m in \u001b[0;36m<module>\u001b[0;34m\u001b[0m\n\u001b[1;32m     15\u001b[0m \u001b[0;31m#fit = np.polyfit(x,y,1)\u001b[0m\u001b[0;34m\u001b[0m\u001b[0;34m\u001b[0m\u001b[0;34m\u001b[0m\u001b[0m\n\u001b[1;32m     16\u001b[0m \u001b[0;31m#fit_fn = np.poly1d(fit)\u001b[0m\u001b[0;34m\u001b[0m\u001b[0;34m\u001b[0m\u001b[0;34m\u001b[0m\u001b[0m\n\u001b[0;32m---> 17\u001b[0;31m \u001b[0mfit_fn\u001b[0m \u001b[0;34m=\u001b[0m \u001b[0mmakeLinearFit\u001b[0m\u001b[0;34m(\u001b[0m\u001b[0mx\u001b[0m\u001b[0;34m,\u001b[0m\u001b[0my\u001b[0m\u001b[0;34m)\u001b[0m\u001b[0;34m\u001b[0m\u001b[0;34m\u001b[0m\u001b[0m\n\u001b[0m",
      "\u001b[0;32m<ipython-input-5-79cdcf4ac484>\u001b[0m in \u001b[0;36mmakeLinearFit\u001b[0;34m(x, y)\u001b[0m\n\u001b[1;32m      1\u001b[0m \u001b[0;32mdef\u001b[0m \u001b[0mmakeLinearFit\u001b[0m\u001b[0;34m(\u001b[0m\u001b[0mx\u001b[0m\u001b[0;34m,\u001b[0m\u001b[0my\u001b[0m\u001b[0;34m)\u001b[0m\u001b[0;34m:\u001b[0m\u001b[0;34m\u001b[0m\u001b[0;34m\u001b[0m\u001b[0m\n\u001b[0;32m----> 2\u001b[0;31m     \u001b[0;32mreturn\u001b[0m \u001b[0mnp\u001b[0m\u001b[0;34m.\u001b[0m\u001b[0mpoly1d\u001b[0m\u001b[0;34m(\u001b[0m\u001b[0mnp\u001b[0m\u001b[0;34m.\u001b[0m\u001b[0mpolyfit\u001b[0m\u001b[0;34m(\u001b[0m\u001b[0mx\u001b[0m\u001b[0;34m,\u001b[0m\u001b[0my\u001b[0m\u001b[0;34m,\u001b[0m\u001b[0my\u001b[0m\u001b[0;34m)\u001b[0m\u001b[0;34m)\u001b[0m\u001b[0;34m\u001b[0m\u001b[0;34m\u001b[0m\u001b[0m\n\u001b[0m",
      "\u001b[0;32m<__array_function__ internals>\u001b[0m in \u001b[0;36mpolyfit\u001b[0;34m(*args, **kwargs)\u001b[0m\n",
      "\u001b[0;32m~/opt/anaconda3/lib/python3.7/site-packages/numpy/lib/polynomial.py\u001b[0m in \u001b[0;36mpolyfit\u001b[0;34m(x, y, deg, rcond, full, w, cov)\u001b[0m\n\u001b[1;32m    589\u001b[0m \u001b[0;34m\u001b[0m\u001b[0m\n\u001b[1;32m    590\u001b[0m     \"\"\"\n\u001b[0;32m--> 591\u001b[0;31m     \u001b[0morder\u001b[0m \u001b[0;34m=\u001b[0m \u001b[0mint\u001b[0m\u001b[0;34m(\u001b[0m\u001b[0mdeg\u001b[0m\u001b[0;34m)\u001b[0m \u001b[0;34m+\u001b[0m \u001b[0;36m1\u001b[0m\u001b[0;34m\u001b[0m\u001b[0;34m\u001b[0m\u001b[0m\n\u001b[0m\u001b[1;32m    592\u001b[0m     \u001b[0mx\u001b[0m \u001b[0;34m=\u001b[0m \u001b[0mNX\u001b[0m\u001b[0;34m.\u001b[0m\u001b[0masarray\u001b[0m\u001b[0;34m(\u001b[0m\u001b[0mx\u001b[0m\u001b[0;34m)\u001b[0m \u001b[0;34m+\u001b[0m \u001b[0;36m0.0\u001b[0m\u001b[0;34m\u001b[0m\u001b[0;34m\u001b[0m\u001b[0m\n\u001b[1;32m    593\u001b[0m     \u001b[0my\u001b[0m \u001b[0;34m=\u001b[0m \u001b[0mNX\u001b[0m\u001b[0;34m.\u001b[0m\u001b[0masarray\u001b[0m\u001b[0;34m(\u001b[0m\u001b[0my\u001b[0m\u001b[0;34m)\u001b[0m \u001b[0;34m+\u001b[0m \u001b[0;36m0.0\u001b[0m\u001b[0;34m\u001b[0m\u001b[0;34m\u001b[0m\u001b[0m\n",
      "\u001b[0;31mTypeError\u001b[0m: int() argument must be a string, a bytes-like object or a number, not 'list'"
     ]
    }
   ],
   "source": [
    "dietStartDate = pd.to_datetime(dietStart)\n",
    "\n",
    "# Get subset of all weights based on date range\n",
    "rangeStart = pd.to_datetime(start)\n",
    "rangeEnd = pd.to_datetime(end)\n",
    "dietLength = (rangeEnd - dietStartDate).days\n",
    "\n",
    "# Get dates in range\n",
    "mask = (weights['Date'] > rangeStart) & (weights['Date'] <= rangeEnd)\n",
    "filteredWeights = weights[mask]\n",
    "\n",
    "# Create linear fit\n",
    "y = filteredWeights['Trend'].tolist()\n",
    "x = range(len(y))\n",
    "#fit = np.polyfit(x,y,1)\n",
    "#fit_fn = np.poly1d(fit)\n",
    "fit_fn = makeLinearFit(x,y)"
   ]
  },
  {
   "cell_type": "code",
   "execution_count": null,
   "metadata": {},
   "outputs": [],
   "source": []
  },
  {
   "cell_type": "markdown",
   "metadata": {},
   "source": [
    "## Plots"
   ]
  },
  {
   "cell_type": "code",
   "execution_count": null,
   "metadata": {},
   "outputs": [],
   "source": [
    "plt.figure(figsize = [15,4])\n",
    "plt.plot(filteredWeights['Date'], fit_fn(x), 'k-')\n",
    "plt.plot(filteredWeights['Date'], filteredWeights['Trend'], 'go', ms = 4)"
   ]
  },
  {
   "cell_type": "markdown",
   "metadata": {},
   "source": [
    "## Calculate success date"
   ]
  },
  {
   "cell_type": "code",
   "execution_count": null,
   "metadata": {},
   "outputs": [],
   "source": [
    "i = dietLength\n",
    "while fit_fn(i) > 225:\n",
    "    i += 1\n",
    "    \n",
    "fit_fn(i)\n",
    "#print(\"Day:\",i,\" Value: \",fit_fn(i))\n",
    "goalDay = dietStartDate + pd.DateOffset(i)\n",
    "print(\"Goal Reached: \",goalDay.month,\"/\",goalDay.day,\"/\",goalDay.year, \": \",i-dietLength, \"Days from now.\")\n",
    "#print(np.poly1d(fit_fn))"
   ]
  },
  {
   "cell_type": "code",
   "execution_count": null,
   "metadata": {},
   "outputs": [],
   "source": [
    "# get date range\n",
    "# make fit line\n",
    "# calculate date reached"
   ]
  }
 ],
 "metadata": {
  "kernelspec": {
   "display_name": "Python 3",
   "language": "python",
   "name": "python3"
  },
  "language_info": {
   "codemirror_mode": {
    "name": "ipython",
    "version": 3
   },
   "file_extension": ".py",
   "mimetype": "text/x-python",
   "name": "python",
   "nbconvert_exporter": "python",
   "pygments_lexer": "ipython3",
   "version": "3.7.6"
  }
 },
 "nbformat": 4,
 "nbformat_minor": 4
}
