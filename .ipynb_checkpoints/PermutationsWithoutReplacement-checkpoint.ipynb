{
 "cells": [
  {
   "cell_type": "markdown",
   "metadata": {},
   "source": [
    "Set tutorial: https://www.programiz.com/python-programming/set"
   ]
  },
  {
   "cell_type": "code",
   "execution_count": 79,
   "metadata": {},
   "outputs": [],
   "source": [
    "def showMe():\n",
    "    print(\"vals: \",vals,\"aSet:\",aSet)\n",
    "    return\n",
    "\n",
    "def saveNum(a,b,c,nums):\n",
    "    nums.append(a*100+b*10+c)\n",
    "    return\n",
    "\n",
    "def makeNums(_nums,_vals,_valSets):\n",
    "    #a val\n",
    "    a = vals.pop()\n",
    "    #b val\n",
    "    b = _vals.pop()\n",
    "    #c vals -- this is the loop\n",
    "    for v in _vals:\n",
    "        cSet.add(v)\n",
    "    for c in cSet:\n",
    "        #make number\n",
    "        saveNum(a,b,c,_nums)\n",
    "        #put back after use\n",
    "        _vals.add(c)\n",
    "        \n",
    "    # record vals\n",
    "    _valSets[0].add(a)\n",
    "    _valSets[1].add(b)\n",
    "    \n",
    "    # put back\n",
    "    vals.add(a)\n",
    "    vals.add(b)\n",
    "        \n",
    "    return _valSets"
   ]
  },
  {
   "cell_type": "code",
   "execution_count": 80,
   "metadata": {},
   "outputs": [],
   "source": [
    "vals = {1,2,3,4,5}\n",
    "nums = []\n",
    "valSets = [set(),set(),set()] #[aSet,bSet,cSet]\n"
   ]
  },
  {
   "cell_type": "code",
   "execution_count": 81,
   "metadata": {},
   "outputs": [],
   "source": [
    "a = 1\n",
    "b = 2\n",
    "cSet = {3,4,5}"
   ]
  },
  {
   "cell_type": "code",
   "execution_count": 82,
   "metadata": {},
   "outputs": [],
   "source": [
    "res=makeNums(nums,vals,valSets)"
   ]
  },
  {
   "cell_type": "code",
   "execution_count": 83,
   "metadata": {},
   "outputs": [
    {
     "name": "stdout",
     "output_type": "stream",
     "text": [
      "{1, 3, 4, 5, 2}\n",
      "[123, 124, 125]\n",
      "[{1}, {2}, set()]\n"
     ]
    }
   ],
   "source": [
    "print(vals)\n",
    "print(nums)\n",
    "print(res)"
   ]
  },
  {
   "cell_type": "code",
   "execution_count": 84,
   "metadata": {},
   "outputs": [],
   "source": [
    "res = makeNums(nums,vals,valSets)"
   ]
  },
  {
   "cell_type": "code",
   "execution_count": 85,
   "metadata": {},
   "outputs": [
    {
     "name": "stdout",
     "output_type": "stream",
     "text": [
      "{1, 3, 5, 2, 4}\n",
      "[123, 124, 125, 341, 342, 343, 344, 345]\n",
      "[{1, 3}, {2, 4}, set()]\n"
     ]
    }
   ],
   "source": [
    "print(vals)\n",
    "print(nums)\n",
    "print(res)"
   ]
  },
  {
   "cell_type": "code",
   "execution_count": null,
   "metadata": {},
   "outputs": [],
   "source": []
  }
 ],
 "metadata": {
  "kernelspec": {
   "display_name": "Python 3",
   "language": "python",
   "name": "python3"
  },
  "language_info": {
   "codemirror_mode": {
    "name": "ipython",
    "version": 3
   },
   "file_extension": ".py",
   "mimetype": "text/x-python",
   "name": "python",
   "nbconvert_exporter": "python",
   "pygments_lexer": "ipython3",
   "version": "3.7.6"
  }
 },
 "nbformat": 4,
 "nbformat_minor": 4
}
