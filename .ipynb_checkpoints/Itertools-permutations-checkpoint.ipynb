{
 "cells": [
  {
   "cell_type": "code",
   "execution_count": 1,
   "metadata": {},
   "outputs": [],
   "source": [
    "import itertools"
   ]
  },
  {
   "cell_type": "code",
   "execution_count": 2,
   "metadata": {},
   "outputs": [],
   "source": [
    "matches = set()\n",
    "products = set()\n",
    "vals = {1,2,3,4,5,6,7,8,9}"
   ]
  },
  {
   "cell_type": "code",
   "execution_count": 3,
   "metadata": {},
   "outputs": [],
   "source": [
    "def matchQ(tuple):\n",
    "    return tuple[0]*tuple[1] == tuple[2]"
   ]
  },
  {
   "cell_type": "code",
   "execution_count": 4,
   "metadata": {},
   "outputs": [],
   "source": [
    "def makeNum2(tuple):\n",
    "    return 10*tuple[0]+tuple[1]\n",
    "\n",
    "def makeNum3(tuple):\n",
    "    return 100*tuple[0]+10*tuple[1]+tuple[2]\n",
    "\n",
    "def makeNum4(tuple):\n",
    "    return 1000*tuple[0]+100*tuple[1]+10*tuple[2]+tuple[3]"
   ]
  },
  {
   "cell_type": "code",
   "execution_count": 5,
   "metadata": {},
   "outputs": [],
   "source": [
    "def makePermutes2(valList):\n",
    "    t = itertools.permutations(valList,2)\n",
    "    t = list(t)\n",
    "    t = list(map(makeNum2,t))\n",
    "    return t\n",
    "\n",
    "def makePermutes3(valList):\n",
    "    t = itertools.permutations(valList,3)\n",
    "    t = list(t)\n",
    "    t = list(map(makeNum3,t))\n",
    "    return t\n",
    "\n",
    "def makePermutes4(valList):\n",
    "    t = itertools.permutations(valList,4)\n",
    "    t = list(t)\n",
    "    t = list(map(makeNum4,t))\n",
    "    return t"
   ]
  },
  {
   "cell_type": "code",
   "execution_count": 6,
   "metadata": {},
   "outputs": [
    {
     "name": "stdout",
     "output_type": "stream",
     "text": [
      "[47, 74]\n",
      "<class 'list'>\n"
     ]
    }
   ],
   "source": [
    "k=makePermutes2({4,7})\n",
    "print(k)\n",
    "print(type(k))"
   ]
  },
  {
   "cell_type": "code",
   "execution_count": 7,
   "metadata": {},
   "outputs": [],
   "source": [
    "def shrink(list,a):\n",
    "    b = list.copy()\n",
    "    b.remove(a)\n",
    "    return b"
   ]
  },
  {
   "cell_type": "raw",
   "metadata": {},
   "source": [
    "# abcd * e == fghi\n",
    "for a in vals:\n",
    "    bList = shrink(vals,a)\n",
    "    for b in bList:\n",
    "        cList = shrink(bList,b)\n",
    "        for c in cList:\n",
    "            dList = shrink(cList,c)\n",
    "            for d in dList:\n",
    "                mList = makePermutes4({a,b,c,d})\n",
    "                eList = shrink(dList,d)\n",
    "                e = eList.pop()\n",
    "                oVals = eList.copy()\n",
    "                oList = makePermutes4(oVals)\n",
    "                for m in mList:\n",
    "                    for o in oList:\n",
    "                        if m * e == o:\n",
    "                            print(o)\n",
    "                            matches.append((m,n,o))\n",
    "              "
   ]
  },
  {
   "cell_type": "code",
   "execution_count": 8,
   "metadata": {},
   "outputs": [
    {
     "name": "stdout",
     "output_type": "stream",
     "text": [
      "a: 1\n",
      "a: 2\n",
      "a: 3\n",
      "a: 4\n",
      "a: 5\n",
      "a: 6\n",
      "a: 7\n",
      "a: 8\n",
      "a: 9\n"
     ]
    }
   ],
   "source": [
    "# abc * de = fghi\n",
    "results = list()\n",
    "for a in vals:\n",
    "    print(\"a:\",a)\n",
    "    bList = shrink(vals,a)\n",
    "    #print(\"bList:\",bList)\n",
    "    for b in bList:\n",
    "        #print(\"b:\",b)\n",
    "        cList = shrink(bList,b)\n",
    "        #print(\"cList:\",cList)\n",
    "        for c in cList:\n",
    "            mList = makePermutes3({a,b,c})  #abc\n",
    "            dList = shrink(cList,c)\n",
    "            for d in dList:\n",
    "                eList = shrink(dList,d)\n",
    "                for e in eList:\n",
    "                    nList = makePermutes2({d,e}) #de\n",
    "                    oVals = eList.copy()\n",
    "                    oList = makePermutes4(oVals) #fghi\n",
    "                    for m in mList:\n",
    "                        for n in nList:\n",
    "                            for o in oList:\n",
    "                                if m * n == o:\n",
    "                                    matches.add((m,n,o))\n",
    "                                    products.add(o)\n"
   ]
  },
  {
   "cell_type": "code",
   "execution_count": 11,
   "metadata": {},
   "outputs": [
    {
     "name": "stdout",
     "output_type": "stream",
     "text": [
      "[3792, 4296, 4396, 4536, 4573, 4732, 4752, 5238, 5268, 5346, 5394, 5396, 5423, 5796, 5916, 5984, 6357, 6732, 6794, 6837, 6942, 7254, 7296, 7584, 7632, 7938, 8234, 8463, 8624, 8643, 8715, 8916, 8952, 9146, 9176, 9246, 9253, 9316, 9328, 9432, 9438, 9485, 9486, 9612, 9752, 9768]\n"
     ]
    }
   ],
   "source": [
    "print(sorted(products))"
   ]
  },
  {
   "cell_type": "code",
   "execution_count": null,
   "metadata": {},
   "outputs": [],
   "source": []
  }
 ],
 "metadata": {
  "kernelspec": {
   "display_name": "Python 3",
   "language": "python",
   "name": "python3"
  },
  "language_info": {
   "codemirror_mode": {
    "name": "ipython",
    "version": 3
   },
   "file_extension": ".py",
   "mimetype": "text/x-python",
   "name": "python",
   "nbconvert_exporter": "python",
   "pygments_lexer": "ipython3",
   "version": "3.7.6"
  }
 },
 "nbformat": 4,
 "nbformat_minor": 4
}
