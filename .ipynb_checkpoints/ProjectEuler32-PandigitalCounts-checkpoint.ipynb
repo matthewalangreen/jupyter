{
 "cells": [
  {
   "cell_type": "markdown",
   "metadata": {},
   "source": [
    "Set tutorial: https://www.programiz.com/python-programming/set"
   ]
  },
  {
   "cell_type": "code",
   "execution_count": 1,
   "metadata": {},
   "outputs": [],
   "source": [
    "import itertools"
   ]
  },
  {
   "cell_type": "code",
   "execution_count": 2,
   "metadata": {},
   "outputs": [],
   "source": [
    "matches = set()\n",
    "products = set()\n",
    "vals = {1,2,3,4,5,6,7,8,9}"
   ]
  },
  {
   "cell_type": "code",
   "execution_count": 3,
   "metadata": {},
   "outputs": [],
   "source": [
    "def matchQ(tuple):\n",
    "    return tuple[0]*tuple[1] == tuple[2]"
   ]
  },
  {
   "cell_type": "code",
   "execution_count": 20,
   "metadata": {},
   "outputs": [],
   "source": [
    "def intToDigitSet(i):\n",
    "    return set(int(d) for d in str(i))"
   ]
  },
  {
   "cell_type": "code",
   "execution_count": null,
   "metadata": {},
   "outputs": [],
   "source": [
    "def uniqueQ()"
   ]
  },
  {
   "cell_type": "code",
   "execution_count": 24,
   "metadata": {},
   "outputs": [
    {
     "data": {
      "text/plain": [
       "{0, 1, 2, 3}"
      ]
     },
     "execution_count": 24,
     "metadata": {},
     "output_type": "execute_result"
    }
   ],
   "source": [
    "intToDigitSet(12320)"
   ]
  },
  {
   "cell_type": "code",
   "execution_count": 23,
   "metadata": {},
   "outputs": [],
   "source": [
    "def makeNum2(tuple):\n",
    "    return 10*tuple[0]+tuple[1]\n",
    "\n",
    "def makeNum3(tuple):\n",
    "    return 100*tuple[0]+10*tuple[1]+tuple[2]\n",
    "\n",
    "def makeNum4(tuple):\n",
    "    return 1000*tuple[0]+100*tuple[1]+10*tuple[2]+tuple[3]\n",
    "\n",
    "def makeNum5(tuple):\n",
    "    return 10000*tuple[0]+1000*tuple[1]+100*tuple[2]+10*tuple[3]+tuple[4]"
   ]
  },
  {
   "cell_type": "code",
   "execution_count": 5,
   "metadata": {},
   "outputs": [],
   "source": [
    "def makePermutes2(valList):\n",
    "    t = itertools.permutations(valList,2)\n",
    "    t = list(t)\n",
    "    t = list(map(makeNum2,t))\n",
    "    return t\n",
    "\n",
    "def makePermutes3(valList):\n",
    "    t = itertools.permutations(valList,3)\n",
    "    t = list(t)\n",
    "    t = list(map(makeNum3,t))\n",
    "    return t\n",
    "\n",
    "def makePermutes4(valList):\n",
    "    t = itertools.permutations(valList,4)\n",
    "    t = list(t)\n",
    "    t = list(map(makeNum4,t))\n",
    "    return t\n",
    "\n",
    "def makePermutes5(valList):\n",
    "    t = itertools.permutations(valList,5)\n",
    "    t = list(t)\n",
    "    t = list(map(makeNum5,t))\n",
    "    return t"
   ]
  },
  {
   "cell_type": "code",
   "execution_count": 6,
   "metadata": {},
   "outputs": [],
   "source": [
    "def shrink(list,a):\n",
    "    b = list.copy()\n",
    "    b.remove(a)\n",
    "    return b"
   ]
  },
  {
   "cell_type": "code",
   "execution_count": 7,
   "metadata": {},
   "outputs": [],
   "source": [
    "# abcd * e == fghi\n",
    "for a in vals:\n",
    "    bList = shrink(vals,a)\n",
    "    for b in bList:\n",
    "        cList = shrink(bList,b)\n",
    "        for c in cList:\n",
    "            dList = shrink(cList,c)\n",
    "            for d in dList:\n",
    "                mList = makePermutes4({a,b,c,d})\n",
    "                eList = shrink(dList,d)\n",
    "                for e in eList:\n",
    "                    oVals = eList.copy() #this has one too many values in it, I think...\n",
    "                    oList = makePermutes4(oVals)\n",
    "                    for m in mList:\n",
    "                        for o in oList:\n",
    "                            if m * e == o:\n",
    "                                #print(o)\n",
    "                                matches.add((m,e,o))\n",
    "                                products.add(o)\n",
    "#print(sorted(products))         "
   ]
  },
  {
   "cell_type": "code",
   "execution_count": 8,
   "metadata": {},
   "outputs": [],
   "source": [
    "# abc * de = fghi\n",
    "for a in vals:\n",
    "    bList = shrink(vals,a)\n",
    "    for b in bList:\n",
    "        cList = shrink(bList,b)\n",
    "        for c in cList:\n",
    "            mList = makePermutes3({a,b,c})  #abc\n",
    "            dList = shrink(cList,c)\n",
    "            for d in dList:\n",
    "                eList = shrink(dList,d)\n",
    "                for e in eList:\n",
    "                    nList = makePermutes2({d,e}) #de\n",
    "                    oVals = eList.copy()\n",
    "                    oList = makePermutes4(oVals) #fghi\n",
    "                    for m in mList:\n",
    "                        for n in nList:\n",
    "                            for o in oList:\n",
    "                                if m * n == o:\n",
    "                                    matches.add((m,n,o))\n",
    "                                    products.add(o)\n",
    "\n",
    "#print(sorted(products))                                "
   ]
  },
  {
   "cell_type": "code",
   "execution_count": 9,
   "metadata": {},
   "outputs": [],
   "source": [
    "# abc * d = efghi   \n",
    "for a in vals:\n",
    "    bList = shrink(vals,a)\n",
    "    for b in bList:\n",
    "        cList = shrink(bList,b)\n",
    "        for c in cList:\n",
    "            mList = makePermutes3({a,b,c}) #abc\n",
    "            dList = shrink(cList,c)\n",
    "            for d in dList:\n",
    "                oVals = dList.copy() \n",
    "                oList = makePermutes5(oVals)\n",
    "                for m in mList:\n",
    "                    for o in oList:\n",
    "                        if m * d == o:\n",
    "                            matches.add((m,d,o))\n",
    "                            products.add(o)\n",
    "                            \n",
    "                "
   ]
  },
  {
   "cell_type": "code",
   "execution_count": 10,
   "metadata": {},
   "outputs": [
    {
     "data": {
      "text/plain": [
       "497924"
      ]
     },
     "execution_count": 10,
     "metadata": {},
     "output_type": "execute_result"
    }
   ],
   "source": [
    "sum(products)"
   ]
  },
  {
   "cell_type": "code",
   "execution_count": 11,
   "metadata": {},
   "outputs": [
    {
     "data": {
      "text/plain": [
       "set"
      ]
     },
     "execution_count": 11,
     "metadata": {},
     "output_type": "execute_result"
    }
   ],
   "source": [
    "type(products)"
   ]
  },
  {
   "cell_type": "code",
   "execution_count": 12,
   "metadata": {},
   "outputs": [
    {
     "name": "stdout",
     "output_type": "stream",
     "text": [
      "[2956, 3528, 3792, 4296, 4396, 4536, 4573, 4732, 4752, 5238, 5268, 5346, 5382, 5394, 5396, 5423, 5472, 5796, 5916, 5984, 6357, 6435, 6485, 6534, 6732, 6794, 6837, 6942, 6952, 7128, 7254, 7296, 7436, 7452, 7584, 7632, 7824, 7852, 7938, 8234, 8235, 8352, 8463, 8624, 8643, 8645, 8712, 8715, 8916, 8952, 9146, 9172, 9176, 9235, 9246, 9253, 9316, 9328, 9432, 9438, 9485, 9486, 9562, 9612, 9674, 9712, 9752, 9768]\n"
     ]
    }
   ],
   "source": [
    "print(sorted(products))"
   ]
  },
  {
   "cell_type": "code",
   "execution_count": 13,
   "metadata": {},
   "outputs": [
    {
     "name": "stdout",
     "output_type": "stream",
     "text": [
      "{(548, 17, 9316), (3564, 2, 7128), (162, 49, 7938), (248, 37, 9176), (2178, 3, 6534), (1794, 3, 5382), (284, 19, 5396), (746, 12, 8952), (1764, 2, 3528), (1287, 5, 6435), (439, 12, 5268), (358, 12, 4296), (158, 24, 3792), (184, 53, 9752), (1368, 4, 5472), (534, 18, 9612), (159, 43, 6837), (138, 42, 5796), (186, 39, 7254), (396, 12, 4752), (179, 46, 8234), (1478, 2, 2956), (158, 43, 6794), (743, 12, 8916), (786, 12, 9432), (176, 53, 9328), (316, 24, 7584), (1746, 3, 5238), (187, 29, 5423), (4356, 2, 8712), (159, 48, 7632), (487, 19, 9253), (194, 27, 5238), (4176, 2, 8352), (198, 27, 5346), (297, 18, 5346), (157, 28, 4396), (384, 19, 7296), (1382, 7, 9674), (348, 17, 5916), (726, 13, 9438), (1647, 5, 8235), (249, 35, 8715), (1738, 4, 6952), (1963, 4, 7852), (4586, 2, 9172), (132, 74, 9768), (217, 39, 8463), (4856, 2, 9712), (1729, 5, 8645), (1297, 5, 6485), (1956, 4, 7824), (129, 53, 6837), (1863, 4, 7452), (186, 29, 5394), (153, 62, 9486), (169, 28, 4732), (539, 16, 8624), (142, 38, 5396), (189, 24, 4536), (1782, 3, 5346), (138, 67, 9246), (1859, 4, 7436), (527, 18, 9486), (4781, 2, 9562), (178, 39, 6942), (1847, 5, 9235), (483, 12, 5796), (176, 34, 5984), (269, 17, 4573), (489, 13, 6357), (538, 17, 9146), (271, 35, 9485), (129, 67, 8643), (198, 34, 6732)}\n"
     ]
    }
   ],
   "source": [
    "print(matches)"
   ]
  },
  {
   "cell_type": "code",
   "execution_count": 14,
   "metadata": {},
   "outputs": [],
   "source": [
    "a=list(map(matchQ,list(matches)))"
   ]
  },
  {
   "cell_type": "code",
   "execution_count": 15,
   "metadata": {},
   "outputs": [
    {
     "name": "stdout",
     "output_type": "stream",
     "text": [
      "[True, True, True, True, True, True, True, True, True, True, True, True, True, True, True, True, True, True, True, True, True, True, True, True, True, True, True, True, True, True, True, True, True, True, True, True, True, True, True, True, True, True, True, True, True, True, True, True, True, True, True, True, True, True, True, True, True, True, True, True, True, True, True, True, True, True, True, True, True, True, True, True, True, True, True]\n"
     ]
    }
   ],
   "source": [
    "print(a)"
   ]
  },
  {
   "cell_type": "code",
   "execution_count": null,
   "metadata": {},
   "outputs": [],
   "source": []
  }
 ],
 "metadata": {
  "kernelspec": {
   "display_name": "Python 3",
   "language": "python",
   "name": "python3"
  },
  "language_info": {
   "codemirror_mode": {
    "name": "ipython",
    "version": 3
   },
   "file_extension": ".py",
   "mimetype": "text/x-python",
   "name": "python",
   "nbconvert_exporter": "python",
   "pygments_lexer": "ipython3",
   "version": "3.7.6"
  }
 },
 "nbformat": 4,
 "nbformat_minor": 4
}
