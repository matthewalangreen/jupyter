{
 "cells": [
  {
   "cell_type": "markdown",
   "metadata": {},
   "source": [
    "Set tutorial: https://www.programiz.com/python-programming/set"
   ]
  },
  {
   "cell_type": "code",
   "execution_count": 73,
   "metadata": {},
   "outputs": [],
   "source": [
    "import pprint\n",
    "pp = pprint.PrettyPrinter()"
   ]
  },
  {
   "cell_type": "code",
   "execution_count": 74,
   "metadata": {},
   "outputs": [],
   "source": [
    "def makeNum(a,b,c):\n",
    "    return a*100+b*10+c\n",
    "\n",
    "def saveNum(val,array):\n",
    "    array.append(val)\n",
    "    return\n",
    "\n",
    "# check it out\n",
    "# 1. see if I've got it (return 0 if I've got it, else)\n",
    "# 2. remove it from masterSet\n",
    "def checkOut(value, mySet, masterSet):\n",
    "    if value in mySet:\n",
    "        return -1\n",
    "    else:\n",
    "        masterSet.remove(value)\n",
    "        return value\n",
    "\n",
    "# check it in\n",
    "# 1. record that I've had it\n",
    "# 2. put it back in masterSet\n",
    "def checkIn(value, mySet, masterSet):\n",
    "    mySet.add(value)\n",
    "    masterSet.add(value)\n",
    "    return\n",
    "\n",
    "#get next value from set not already gotten\n",
    "def getNext( mySet, masterSet ):\n",
    "    if len(masterSet.difference(mySet)) > 0:\n",
    "        next = masterSet.difference(mySet).pop()\n",
    "        checkOut( next, mySet, masterSet )\n",
    "        return next\n",
    "    else:\n",
    "        return -1\n",
    "    \n"
   ]
  },
  {
   "cell_type": "code",
   "execution_count": 75,
   "metadata": {},
   "outputs": [],
   "source": [
    "v = {1,2,3,4,5}\n",
    "nums = []\n",
    "aSet = set()\n",
    "bSet = set()\n",
    "cSet = set()"
   ]
  },
  {
   "cell_type": "code",
   "execution_count": 76,
   "metadata": {},
   "outputs": [],
   "source": [
    "# pick a,b,c\n",
    "a = v.pop()\n",
    "b = v.pop()\n",
    "c = v.pop()\n",
    "nums.append(makeNum(a,b,c))\n",
    "cSet.add(c)\n",
    "v.add(c)"
   ]
  },
  {
   "cell_type": "code",
   "execution_count": 77,
   "metadata": {},
   "outputs": [
    {
     "name": "stdout",
     "output_type": "stream",
     "text": [
      "a: 4 b: 5 c: 5 aSet: {1, 2, 3} bSet: set() cSet: set() v: {2, 1, 3} nums: [123, 124, 125, 132, 134, 135, 142, 143, 145, 251, 253, 254, 213, 214, 215, 231, 234, 235, 341, 342, 345, 312, 314, 315, 321, 324, 325]\n"
     ]
    }
   ],
   "source": [
    "# swap c\n",
    "# record last c value\n",
    "# put c value back in v\n",
    "# get new c value\n",
    "\n",
    "while len(aSet) < len(v):\n",
    "\n",
    "    while len(bSet) < len(v):\n",
    "\n",
    "        while len(cSet) < len(v):\n",
    "            c = getNext(cSet, v)\n",
    "            saveNum(makeNum(a,b,c),nums)\n",
    "            checkIn(c,cSet,v)\n",
    "\n",
    "        cSet.clear()\n",
    "        checkIn(b,bSet,v)\n",
    "        b = getNext(bSet,v)\n",
    "        \n",
    "    bSet.clear()\n",
    "    checkIn(a,aSet,v)\n",
    "    a = getNext(aSet,v)\n",
    "\n",
    "print(\"a:\",a,\"b:\",b,\"c:\",c,\"aSet:\",aSet,\"bSet:\",bSet,\"cSet:\",cSet,\"v:\",v,\"nums:\",nums)"
   ]
  },
  {
   "cell_type": "code",
   "execution_count": 78,
   "metadata": {},
   "outputs": [
    {
     "name": "stdout",
     "output_type": "stream",
     "text": [
      "[123,\n",
      " 124,\n",
      " 125,\n",
      " 132,\n",
      " 134,\n",
      " 135,\n",
      " 142,\n",
      " 143,\n",
      " 145,\n",
      " 251,\n",
      " 253,\n",
      " 254,\n",
      " 213,\n",
      " 214,\n",
      " 215,\n",
      " 231,\n",
      " 234,\n",
      " 235,\n",
      " 341,\n",
      " 342,\n",
      " 345,\n",
      " 312,\n",
      " 314,\n",
      " 315,\n",
      " 321,\n",
      " 324,\n",
      " 325]\n"
     ]
    }
   ],
   "source": [
    "pp.pprint(nums)"
   ]
  },
  {
   "cell_type": "code",
   "execution_count": 79,
   "metadata": {},
   "outputs": [],
   "source": [
    "# swap b...\n",
    "# swap a...\n",
    "# done"
   ]
  }
 ],
 "metadata": {
  "kernelspec": {
   "display_name": "Python 3",
   "language": "python",
   "name": "python3"
  },
  "language_info": {
   "codemirror_mode": {
    "name": "ipython",
    "version": 3
   },
   "file_extension": ".py",
   "mimetype": "text/x-python",
   "name": "python",
   "nbconvert_exporter": "python",
   "pygments_lexer": "ipython3",
   "version": "3.7.6"
  }
 },
 "nbformat": 4,
 "nbformat_minor": 4
}
