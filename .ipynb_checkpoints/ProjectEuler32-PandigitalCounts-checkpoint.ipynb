{
 "cells": [
  {
   "cell_type": "markdown",
   "metadata": {},
   "source": [
    "Set tutorial: https://www.programiz.com/python-programming/set"
   ]
  },
  {
   "cell_type": "code",
   "execution_count": 25,
   "metadata": {},
   "outputs": [],
   "source": [
    "# (int,int,int,int) -> int\n",
    "def makeNum4(a,b,c,d):\n",
    "    return a*1000+b*100+c*10+d\n",
    "\n",
    "# (int,int,int) -> int\n",
    "def makeNum3(a,b,c):\n",
    "    return a*100+b*10+c\n",
    "\n",
    "# (int,int) -> int\n",
    "def makeNum2(a,b):\n",
    "    return a*10+b"
   ]
  },
  {
   "cell_type": "code",
   "execution_count": 26,
   "metadata": {},
   "outputs": [],
   "source": [
    "# set() -> list\n",
    "def findPermutations2(_vals):\n",
    "    # make num holder\n",
    "    myNums = []\n",
    "  \n",
    "    for a in _vals:\n",
    "        # next list has to be one smaller\n",
    "        bVals = _vals.copy()\n",
    "        bVals.remove(a)\n",
    "        \n",
    "        for b in bVals:\n",
    "            # next list has to be one smaller\n",
    "            myNums.append(makeNum2(a,b))\n",
    "\n",
    "    # return the nums we made\n",
    "    return myNums\n",
    "\n",
    "# set() -> list\n",
    "def findPermutations3(_vals):\n",
    "    # make num holder\n",
    "    myNums = []\n",
    "  \n",
    "    for a in _vals:\n",
    "        # next list has to be one smaller\n",
    "        bVals = _vals.copy()\n",
    "        bVals.remove(a)\n",
    "        \n",
    "        for b in bVals:\n",
    "            # next list has to be one smaller\n",
    "            cVals = bVals.copy()\n",
    "            cVals.remove(b)\n",
    "            \n",
    "            for c in cVals:\n",
    "                myNums.append(makeNum3(a,b,c))\n",
    "\n",
    "    # return the nums we made\n",
    "    return myNums\n",
    "\n",
    "# set() -> list\n",
    "def findPermutations4(_vals):\n",
    "    # make num holder\n",
    "    myNums = []\n",
    "  \n",
    "    for a in _vals:\n",
    "        # next list has to be one smaller\n",
    "        bVals = _vals.copy()\n",
    "        bVals.remove(a)\n",
    "        \n",
    "        for b in bVals:\n",
    "            # next list has to be one smaller\n",
    "            cVals = bVals.copy()\n",
    "            cVals.remove(b)\n",
    "            \n",
    "            for c in cVals:\n",
    "                dVals = cVals.copy()\n",
    "                dVals.remove(c)\n",
    "                \n",
    "                for d in dVals:\n",
    "                    myNums.append(makeNum4(a,b,c,d))\n",
    "\n",
    "    # return the nums we made\n",
    "    return myNums"
   ]
  },
  {
   "cell_type": "code",
   "execution_count": 27,
   "metadata": {},
   "outputs": [],
   "source": [
    "# set() -> list\n",
    "def findPermutations4(_vals,candidate):\n",
    "    # make num holder\n",
    "    matchingNums = []\n",
    "  \n",
    "    for a in _vals:\n",
    "        # next list has to be one smaller\n",
    "        bVals = _vals.copy()\n",
    "        bVals.remove(a)\n",
    "        \n",
    "        for b in bVals:\n",
    "            # next list has to be one smaller\n",
    "            cVals = bVals.copy()\n",
    "            cVals.remove(b)\n",
    "            \n",
    "            for c in cVals:\n",
    "                # the next list has to be one smaller\n",
    "                dVals = cVals.copy()\n",
    "                dVals.remove(c)\n",
    "                \n",
    "                for d in dVals:\n",
    "                    if makeNum4(a,b,c,d) == candidate:\n",
    "                        matchingNums.append(makeNum4(a,b,c,d))\n",
    "\n",
    "    # return the nums we made\n",
    "    return matchingNums"
   ]
  },
  {
   "cell_type": "code",
   "execution_count": 28,
   "metadata": {},
   "outputs": [],
   "source": [
    "# set() -> list\n",
    "def findPermutations3By2(_vals):\n",
    "    # make num holder\n",
    "    matches = []\n",
    "  \n",
    "    for a in _vals:\n",
    "        # next list has to be one smaller\n",
    "        bVals = _vals.copy()\n",
    "        bVals.remove(a)\n",
    "        \n",
    "        for b in bVals:\n",
    "            # next list has to be one smaller\n",
    "            cVals = bVals.copy()\n",
    "            cVals.remove(b)\n",
    "            \n",
    "            for c in cVals:\n",
    "                first = makeNum3(a,b,c)\n",
    "                \n",
    "                ######\n",
    "                ###### Figure out how to use the modules I\"ve got to do the checking against 3 x 2 and 4 x 1 without making all these functions!\n",
    "                ######\n",
    "                for d in dVals:\n",
    "                    fourDigit = makeNum4(a,b,c,d)\n",
    "                    \n",
    "                    # the next list has to be one smaller\n",
    "                    eVals = dVals.copy()\n",
    "                    eVals.remove(d)\n",
    "                \n",
    "                    for e in eVals:\n",
    "                        matchCandidate = fourDigit*e\n",
    "                        \n",
    "                        # remove e value to make subset for products (right side)\n",
    "                        productVals = eVals.copy()\n",
    "                        productVals.remove(e)\n",
    "                        \n",
    "                        # get matches from other function\n",
    "                        matches = findPermutations4(productVals,matchCandidate)\n",
    "                        \n",
    "    # return the nums we made\n",
    "    return matches\n",
    "\n",
    "# set() -> list\n",
    "def findPermutations4By1(_vals):\n",
    "    # make num holder\n",
    "    matches = []\n",
    "  \n",
    "    for a in _vals:\n",
    "        # next list has to be one smaller\n",
    "        bVals = _vals.copy()\n",
    "        bVals.remove(a)\n",
    "        \n",
    "        for b in bVals:\n",
    "            # next list has to be one smaller\n",
    "            cVals = bVals.copy()\n",
    "            cVals.remove(b)\n",
    "            \n",
    "            for c in cVals:\n",
    "                # the next list has to be one smaller\n",
    "                dVals = cVals.copy()\n",
    "                dVals.remove(c)\n",
    "                \n",
    "                for d in dVals:\n",
    "                    fourDigit = makeNum4(a,b,c,d)\n",
    "                    \n",
    "                    # the next list has to be one smaller\n",
    "                    eVals = dVals.copy()\n",
    "                    eVals.remove(d)\n",
    "                \n",
    "                    for e in eVals:\n",
    "                        matchCandidate = fourDigit*e\n",
    "                        \n",
    "                        # remove e value to make subset for products (right side)\n",
    "                        productVals = eVals.copy()\n",
    "                        productVals.remove(e)\n",
    "                        \n",
    "                        # get matches from other function\n",
    "                        matches = findPermutations4(productVals,matchCandidate)\n",
    "                        \n",
    "    # return the nums we made\n",
    "    return matches"
   ]
  },
  {
   "cell_type": "code",
   "execution_count": 29,
   "metadata": {},
   "outputs": [
    {
     "name": "stdout",
     "output_type": "stream",
     "text": [
      "[]\n"
     ]
    }
   ],
   "source": [
    "a = findPermutations4By1({1,2,3,4,5,6,7,8,9})\n",
    "print(a)"
   ]
  },
  {
   "cell_type": "code",
   "execution_count": 30,
   "metadata": {},
   "outputs": [
    {
     "name": "stdout",
     "output_type": "stream",
     "text": [
      "[12, 13, 14, 21, 23, 24, 31, 32, 34, 41, 42, 43]\n"
     ]
    },
    {
     "data": {
      "text/plain": [
       "12"
      ]
     },
     "execution_count": 30,
     "metadata": {},
     "output_type": "execute_result"
    }
   ],
   "source": [
    "a=findPermutations2({1,2,3,4})\n",
    "print(a)\n",
    "len(a)"
   ]
  },
  {
   "cell_type": "code",
   "execution_count": 31,
   "metadata": {},
   "outputs": [
    {
     "name": "stdout",
     "output_type": "stream",
     "text": [
      "[123, 124, 132, 134, 142, 143, 213, 214, 231, 234, 241, 243, 312, 314, 321, 324, 341, 342, 412, 413, 421, 423, 431, 432]\n"
     ]
    },
    {
     "data": {
      "text/plain": [
       "24"
      ]
     },
     "execution_count": 31,
     "metadata": {},
     "output_type": "execute_result"
    }
   ],
   "source": [
    "b=findPermutations3({1,2,3,4})\n",
    "print(b)\n",
    "len(b)"
   ]
  },
  {
   "cell_type": "code",
   "execution_count": null,
   "metadata": {},
   "outputs": [],
   "source": []
  }
 ],
 "metadata": {
  "kernelspec": {
   "display_name": "Python 3",
   "language": "python",
   "name": "python3"
  },
  "language_info": {
   "codemirror_mode": {
    "name": "ipython",
    "version": 3
   },
   "file_extension": ".py",
   "mimetype": "text/x-python",
   "name": "python",
   "nbconvert_exporter": "python",
   "pygments_lexer": "ipython3",
   "version": "3.7.6"
  }
 },
 "nbformat": 4,
 "nbformat_minor": 4
}
