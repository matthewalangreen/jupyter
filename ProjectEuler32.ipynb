{
 "cells": [
  {
   "cell_type": "markdown",
   "metadata": {},
   "source": [
    "Set tutorial: https://www.programiz.com/python-programming/set"
   ]
  },
  {
   "cell_type": "code",
   "execution_count": 1,
   "metadata": {},
   "outputs": [],
   "source": [
    "import itertools"
   ]
  },
  {
   "cell_type": "code",
   "execution_count": 2,
   "metadata": {},
   "outputs": [],
   "source": [
    "matches = set()\n",
    "products = set()\n",
    "vals = {1,2,3,4,5,6,7,8,9}"
   ]
  },
  {
   "cell_type": "raw",
   "metadata": {},
   "source": [
    "def matchQ(tuple):\n",
    "    return tuple[0]*tuple[1] == tuple[2]"
   ]
  },
  {
   "cell_type": "code",
   "execution_count": 3,
   "metadata": {},
   "outputs": [],
   "source": [
    "def intToDigitList(i):\n",
    "    return list(int(d) for d in str(i))"
   ]
  },
  {
   "cell_type": "code",
   "execution_count": 4,
   "metadata": {},
   "outputs": [],
   "source": [
    "def uniqueQ(aSet):\n",
    "    if len(aSet) == 9:\n",
    "        if sum(aSet) == 1+2+3+4+5+6+7+8+9:\n",
    "            return True\n",
    "        else:\n",
    "            return False\n",
    "    else:\n",
    "        return False"
   ]
  },
  {
   "cell_type": "code",
   "execution_count": 5,
   "metadata": {},
   "outputs": [],
   "source": [
    "def countIt(aString):\n",
    "    return uniqueQ(intToDigitList(aString))"
   ]
  },
  {
   "cell_type": "code",
   "execution_count": 6,
   "metadata": {},
   "outputs": [],
   "source": [
    "def makeNum2(tuple):\n",
    "    return 10*tuple[0]+tuple[1]\n",
    "\n",
    "def makeNum3(tuple):\n",
    "    return 100*tuple[0]+10*tuple[1]+tuple[2]\n",
    "\n",
    "def makeNum4(tuple):\n",
    "    return 1000*tuple[0]+100*tuple[1]+10*tuple[2]+tuple[3]\n",
    "\n",
    "def makeNum5(tuple):\n",
    "    return 10000*tuple[0]+1000*tuple[1]+100*tuple[2]+10*tuple[3]+tuple[4]"
   ]
  },
  {
   "cell_type": "code",
   "execution_count": 7,
   "metadata": {},
   "outputs": [],
   "source": [
    "def makePermutes2(valList):\n",
    "    t = itertools.permutations(valList,2)\n",
    "    t = list(t)\n",
    "    t = list(map(makeNum2,t))\n",
    "    return t\n",
    "\n",
    "def makePermutes3(valList):\n",
    "    t = itertools.permutations(valList,3)\n",
    "    t = list(t)\n",
    "    t = list(map(makeNum3,t))\n",
    "    return t\n",
    "\n",
    "def makePermutes4(valList):\n",
    "    t = itertools.permutations(valList,4)\n",
    "    t = list(t)\n",
    "    t = list(map(makeNum4,t))\n",
    "    return t\n",
    "\n",
    "def makePermutes5(valList):\n",
    "    t = itertools.permutations(valList,5)\n",
    "    t = list(t)\n",
    "    t = list(map(makeNum5,t))\n",
    "    return t"
   ]
  },
  {
   "cell_type": "code",
   "execution_count": 8,
   "metadata": {},
   "outputs": [],
   "source": [
    "def shrink(list,a):\n",
    "    b = list.copy()\n",
    "    b.remove(a)\n",
    "    return b"
   ]
  },
  {
   "cell_type": "code",
   "execution_count": 9,
   "metadata": {},
   "outputs": [],
   "source": [
    "# abcd * e == fghi\n",
    "for a in vals:\n",
    "    bList = shrink(vals,a)\n",
    "    for b in bList:\n",
    "        cList = shrink(bList,b)\n",
    "        for c in cList:\n",
    "            dList = shrink(cList,c)\n",
    "            for d in dList:\n",
    "                mList = makePermutes4({a,b,c,d})\n",
    "                eList = shrink(dList,d)\n",
    "                for e in eList:\n",
    "                    oVals = eList.copy() \n",
    "                    oList = makePermutes4(oVals)\n",
    "                    for m in mList:\n",
    "                        for o in oList:\n",
    "                            if m * e == o:\n",
    "                                if countIt(str(m)+str(e)+str(o)):\n",
    "                                    matches.add((m,e,o))\n",
    "                                    products.add(o)       "
   ]
  },
  {
   "cell_type": "code",
   "execution_count": 10,
   "metadata": {},
   "outputs": [],
   "source": [
    "# abc * de = fghi\n",
    "for a in vals:\n",
    "    bList = shrink(vals,a)\n",
    "    for b in bList:\n",
    "        cList = shrink(bList,b)\n",
    "        for c in cList:\n",
    "            mList = makePermutes3({a,b,c})  #abc\n",
    "            dList = shrink(cList,c)\n",
    "            for d in dList:\n",
    "                eList = shrink(dList,d)\n",
    "                for e in eList:\n",
    "                    nList = makePermutes2({d,e}) #de\n",
    "                    oVals = eList.copy()\n",
    "                    oList = makePermutes4(oVals) #fghi\n",
    "                    for m in mList:\n",
    "                        for n in nList:\n",
    "                            for o in oList:\n",
    "                                if m * n == o:\n",
    "                                    if countIt(str(m)+str(n)+str(o)):\n",
    "                                        matches.add((m,n,o))\n",
    "                                        products.add(o)                             "
   ]
  },
  {
   "cell_type": "code",
   "execution_count": 11,
   "metadata": {},
   "outputs": [
    {
     "data": {
      "text/plain": [
       "45228"
      ]
     },
     "execution_count": 11,
     "metadata": {},
     "output_type": "execute_result"
    }
   ],
   "source": [
    "sum(products)"
   ]
  },
  {
   "cell_type": "code",
   "execution_count": null,
   "metadata": {},
   "outputs": [],
   "source": []
  }
 ],
 "metadata": {
  "kernelspec": {
   "display_name": "Python 3",
   "language": "python",
   "name": "python3"
  },
  "language_info": {
   "codemirror_mode": {
    "name": "ipython",
    "version": 3
   },
   "file_extension": ".py",
   "mimetype": "text/x-python",
   "name": "python",
   "nbconvert_exporter": "python",
   "pygments_lexer": "ipython3",
   "version": "3.7.6"
  }
 },
 "nbformat": 4,
 "nbformat_minor": 4
}
